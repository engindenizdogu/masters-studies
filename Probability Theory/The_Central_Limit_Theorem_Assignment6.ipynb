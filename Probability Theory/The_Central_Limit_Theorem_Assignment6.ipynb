{
 "cells": [
  {
   "cell_type": "markdown",
   "metadata": {
    "deletable": false,
    "editable": false,
    "nbgrader": {
     "cell_type": "markdown",
     "checksum": "358f674fab6ccd867a3785b7750c1090",
     "grade": false,
     "grade_id": "cell-817d95625e6bbc0d",
     "locked": true,
     "schema_version": 3,
     "solution": false,
     "task": false
    }
   },
   "source": [
    "# Module 6 Autograded Assignment"
   ]
  },
  {
   "cell_type": "code",
   "execution_count": 1,
   "metadata": {
    "deletable": false,
    "editable": false,
    "nbgrader": {
     "cell_type": "code",
     "checksum": "859ba2f3533cf990f46264b97633c61b",
     "grade": false,
     "grade_id": "cell-e5924c3e8e1460f6",
     "locked": true,
     "schema_version": 3,
     "solution": false,
     "task": false
    },
    "vscode": {
     "languageId": "r"
    }
   },
   "outputs": [],
   "source": [
    "# Load Packages\n",
    "library(testthat)"
   ]
  },
  {
   "cell_type": "markdown",
   "metadata": {
    "deletable": false,
    "editable": false,
    "nbgrader": {
     "cell_type": "markdown",
     "checksum": "73a96be09a7792e89a89ed40bd8f2a59",
     "grade": false,
     "grade_id": "cell-c26e9d8079382b33",
     "locked": true,
     "schema_version": 3,
     "solution": false,
     "task": false
    }
   },
   "source": [
    "# Problem 1\n",
    "\n",
    "You are a quality assurance tester for hardware equipment and been given a lot of $10,000$ nails to test. You decide to randomly sample $100$ nails from the lot and test if they are defective. The whole lot would be considered defective if the average of the sample is less than $11.97$cm or greater than $12.04$cm. Given that the true population mean $\\mu$ is $12$cm with a true standard deviation $\\sigma$ of $0.2$cm, what is the probability that the lot is **not** defective? Round your answer to two decimal places. Save your answer as `p1`."
   ]
  },
  {
   "cell_type": "code",
   "execution_count": 14,
   "metadata": {
    "deletable": false,
    "nbgrader": {
     "cell_type": "code",
     "checksum": "561ac16d9982a49be45f43ca03f86761",
     "grade": false,
     "grade_id": "cell-b5e82d8720ba5467",
     "locked": false,
     "schema_version": 3,
     "solution": true,
     "task": false
    },
    "vscode": {
     "languageId": "r"
    }
   },
   "outputs": [
    {
     "data": {
      "text/html": [
       "0.91"
      ],
      "text/latex": [
       "0.91"
      ],
      "text/markdown": [
       "0.91"
      ],
      "text/plain": [
       "[1] 0.91"
      ]
     },
     "metadata": {},
     "output_type": "display_data"
    }
   ],
   "source": [
    "p1 = NA\n",
    "# your code here\n",
    "# 𝜇 = 12, 𝜎^2 = 0.04\n",
    "# We can approximate X as Y ~ N(𝜇,𝜎^2/n) where n = 100 => Y ~ N(12,0.0004)\n",
    "# P(11.97 <= Y <= 12.04) = ?\n",
    "# P((11.97-12)/sqrt(0.0004) <= Z <= (12.04-12)/sqrt(0.0004)) = P(-1.5 <= Z <= 2) = ϕ(2) - ϕ(-1.5)\n",
    "\n",
    "p1 = round(pnorm(2) - pnorm(-1.5), digits=2)\n",
    "p1"
   ]
  },
  {
   "cell_type": "markdown",
   "metadata": {
    "deletable": false,
    "editable": false,
    "nbgrader": {
     "cell_type": "markdown",
     "checksum": "81c63ef6c3fc4b7cdfe1e566faa35bc3",
     "grade": false,
     "grade_id": "cell-7ae08ae9c670e962",
     "locked": true,
     "schema_version": 3,
     "solution": false,
     "task": false
    }
   },
   "source": [
    "# Problem 2\n",
    "\n",
    "Suppose you are out fishing and you want to predict the amount of time (in minutes) it takes to catch 3 fish. Let $T_F \\sim N(15, 10)$ be the time it takes to reel in a fish. Let $T_T \\sim N(10, 8)$ be the amount of time you spend waiting for the fish to take the bait. Assume $T_F$ and $T_T$ are independent. Also assume you start timing as soon as you start reeling in the first fish, and the time ends when you have finished catching the third fish. "
   ]
  },
  {
   "cell_type": "markdown",
   "metadata": {
    "deletable": false,
    "editable": false,
    "nbgrader": {
     "cell_type": "markdown",
     "checksum": "8c66a5656415e414a314e1ae3b34b1fb",
     "grade": false,
     "grade_id": "cell-1ec3de7be7889e5b",
     "locked": true,
     "schema_version": 3,
     "solution": false,
     "task": false
    }
   },
   "source": [
    "**a)** Let $T$ be the random variable for the total amount of time spent fishing. What is $E[T]$ and $Var[T]$? Save your variables as `exp.T` and `var.T`. (Hint: Note that a variance of 122 is incorrect for this problem. Why? If $Z_1$ and $Z_2$ are indepedent N(0,1) random variables, the distribution of $Z_1 + Z_2 $ is not the same as $2Z_1$. If you want to explore this, you can run some simulations to see for yourself.) "
   ]
  },
  {
   "cell_type": "code",
   "execution_count": 26,
   "metadata": {
    "deletable": false,
    "nbgrader": {
     "cell_type": "code",
     "checksum": "9f19b50842d0a130c87ba01b81bd9ad1",
     "grade": false,
     "grade_id": "cell-486a5b231afdf9c4",
     "locked": false,
     "schema_version": 3,
     "solution": true,
     "task": false
    },
    "vscode": {
     "languageId": "r"
    }
   },
   "outputs": [
    {
     "data": {
      "text/html": [
       "65"
      ],
      "text/latex": [
       "65"
      ],
      "text/markdown": [
       "65"
      ],
      "text/plain": [
       "[1] 65"
      ]
     },
     "metadata": {},
     "output_type": "display_data"
    },
    {
     "data": {
      "text/html": [
       "46"
      ],
      "text/latex": [
       "46"
      ],
      "text/markdown": [
       "46"
      ],
      "text/plain": [
       "[1] 46"
      ]
     },
     "metadata": {},
     "output_type": "display_data"
    }
   ],
   "source": [
    "exp.T = NA\n",
    "var.T = NA\n",
    "# your code here\n",
    "# Cov(Tf,Tt) = 0 since they are independent\n",
    "# First fish: T1 = Tf (we start counting when the fish falls for the bait)\n",
    "# Second fish: T2 = Tt + Tf\n",
    "# Third fish: T3 = Tt + Tf\n",
    "# T = T1 + T2 + T3\n",
    "# E[T] = E[T1 + T2 + T3] = E[T1] + E[T2] + E[T3] = (15) + (10 + 15) + (10 + 15) = 65 \n",
    "# V[T] = V[T1 + T2 + T3] = V[T1] + V[T2] + V[T3] (covariance is 0)\n",
    "# V[T1 + T2 + T3] = V(Tf) + V(Tt + Tf) + V(Tt + Tf)\n",
    "# 3*V(Tf) + 2*V(Tt)\n",
    "e.tf = 15\n",
    "e.tt = 10\n",
    "v.tf = 10\n",
    "v.tt = 8\n",
    "exp.T = 65\n",
    "var.T = 3*v.tf + 2*v.tt\n",
    "\n",
    "exp.T\n",
    "var.T"
   ]
  },
  {
   "cell_type": "markdown",
   "metadata": {
    "deletable": false,
    "editable": false,
    "nbgrader": {
     "cell_type": "markdown",
     "checksum": "41c021adef2d27fe08253ba4132ca553",
     "grade": false,
     "grade_id": "cell-c79e2b7c15360310",
     "locked": true,
     "schema_version": 3,
     "solution": false,
     "task": false
    }
   },
   "source": [
    "**b)** What is the probability that you finish catching the three fish in 60 minutes or less? Round your answer to three decimal places. Save your answer as `p2.2`."
   ]
  },
  {
   "cell_type": "code",
   "execution_count": 27,
   "metadata": {
    "deletable": false,
    "nbgrader": {
     "cell_type": "code",
     "checksum": "35c3f16bf84e211efcca0838977f9d07",
     "grade": false,
     "grade_id": "cell-c5897de05b22e9c5",
     "locked": false,
     "schema_version": 3,
     "solution": true,
     "task": false
    },
    "vscode": {
     "languageId": "r"
    }
   },
   "outputs": [
    {
     "data": {
      "text/html": [
       "0.23"
      ],
      "text/latex": [
       "0.23"
      ],
      "text/markdown": [
       "0.23"
      ],
      "text/plain": [
       "[1] 0.23"
      ]
     },
     "metadata": {},
     "output_type": "display_data"
    }
   ],
   "source": [
    "p2.2 = NA\n",
    "# your code here\n",
    "# T ~ N(65,46) then find P(T<=60) = ? \n",
    "# P(Z <= (60-65)/sqrt(46)) = P(Z <= -0.7372097808)\n",
    "\n",
    "p2.2 = round(pnorm(-0.7372097808),digits=3)\n",
    "p2.2"
   ]
  },
  {
   "cell_type": "markdown",
   "metadata": {
    "deletable": false,
    "editable": false,
    "nbgrader": {
     "cell_type": "markdown",
     "checksum": "b1ab7fa3b1afa6d85ad23e7e7ab681df",
     "grade": false,
     "grade_id": "cell-56f245bd232d7f4d",
     "locked": true,
     "schema_version": 3,
     "solution": false,
     "task": false
    }
   },
   "source": [
    "# Problem 3\n",
    "\n",
    "Exams given by a particular instructor in a freshman-level statistics course have a mean of $75$ and a standard deviation of $17$. The instructor gives an exam to two classes, one with $30$ students and the other with $90$ students."
   ]
  },
  {
   "cell_type": "markdown",
   "metadata": {
    "deletable": false,
    "editable": false,
    "nbgrader": {
     "cell_type": "markdown",
     "checksum": "4722a6ea097be4d9b09d87d1a1c17a36",
     "grade": false,
     "grade_id": "cell-85652af628ab9d1e",
     "locked": true,
     "schema_version": 3,
     "solution": false,
     "task": false
    }
   },
   "source": [
    "**a)** Let $\\bar{X}$ represent the average exam score in the class of $30$. Approximate the probability that the average test score $\\bar{X}$ exceeds $80$, that is, estimate $P(\\bar{X} \\ge 80)$. Round your answer to four decimal places. Save your answer as `p3.a`."
   ]
  },
  {
   "cell_type": "code",
   "execution_count": 9,
   "metadata": {
    "deletable": false,
    "nbgrader": {
     "cell_type": "code",
     "checksum": "f538683754bbb2a38da8cfb47ad4f668",
     "grade": false,
     "grade_id": "cell-b4ca82e7942ac5c5",
     "locked": false,
     "schema_version": 3,
     "solution": true,
     "task": false
    },
    "vscode": {
     "languageId": "r"
    }
   },
   "outputs": [
    {
     "data": {
      "text/html": [
       "0.0536"
      ],
      "text/latex": [
       "0.0536"
      ],
      "text/markdown": [
       "0.0536"
      ],
      "text/plain": [
       "[1] 0.0536"
      ]
     },
     "metadata": {},
     "output_type": "display_data"
    }
   ],
   "source": [
    "p3.a = NA\n",
    "# your code here\n",
    "e = 75\n",
    "sd = 17\n",
    "# X_bar ~ N(75,17^2/30), then find P(X_hat>=80) = 1 - P(X_hat<=80)\n",
    "# 1 - P(Z <= (80-75)/sqrt(17^2/30)) = 1 - P(Z <= 1.610948699)\n",
    "p3.a = round(1-pnorm(1.610948699),digits=4)\n",
    "p3.a"
   ]
  },
  {
   "cell_type": "markdown",
   "metadata": {
    "deletable": false,
    "editable": false,
    "nbgrader": {
     "cell_type": "markdown",
     "checksum": "9d8c08284db2d8141f887292812ee25c",
     "grade": false,
     "grade_id": "cell-e313f24ee57c72eb",
     "locked": true,
     "schema_version": 3,
     "solution": false,
     "task": false
    }
   },
   "source": [
    "**b)** Let $\\bar{Y}$ represent the average exam score in the class of $90$. Approximate the probability that the average test score $\\bar{Y}$ exceeds $80$, that is, estimate $P(\\bar{Y} \\ge 80)$. Round your answer to four decimal places. Save your answer as `p3.b`."
   ]
  },
  {
   "cell_type": "code",
   "execution_count": 10,
   "metadata": {
    "deletable": false,
    "nbgrader": {
     "cell_type": "code",
     "checksum": "29d5b8e7c099eddf2c4f659436f6c84a",
     "grade": false,
     "grade_id": "cell-2b0fe4f57f4c6ff5",
     "locked": false,
     "schema_version": 3,
     "solution": true,
     "task": false
    },
    "vscode": {
     "languageId": "r"
    }
   },
   "outputs": [
    {
     "data": {
      "text/html": [
       "0.0026"
      ],
      "text/latex": [
       "0.0026"
      ],
      "text/markdown": [
       "0.0026"
      ],
      "text/plain": [
       "[1] 0.0026"
      ]
     },
     "metadata": {},
     "output_type": "display_data"
    }
   ],
   "source": [
    "p3.b = NA\n",
    "# your code here\n",
    "# Y_bar ~ N(75,17^2/90), then find P(Y_hat>=80) = 1 - P(Y_hat<=80)\n",
    "# 1 - P(Z <= (80-75)/sqrt(17^2/90)) = 1 - P(Z <= 2.790244994)\n",
    "p3.b = round(1-pnorm(2.790244994),digits=4)\n",
    "p3.b"
   ]
  },
  {
   "cell_type": "markdown",
   "metadata": {
    "deletable": false,
    "editable": false,
    "nbgrader": {
     "cell_type": "markdown",
     "checksum": "058601561935581ff7d76b3467e32ae9",
     "grade": false,
     "grade_id": "cell-9ee70ded5db6ed2d",
     "locked": true,
     "schema_version": 3,
     "solution": false,
     "task": false
    }
   },
   "source": [
    "**Thought Question (Not Graded)** Would you be surpised to learn that the $90$ person class had an exam average of $80$ or higher?"
   ]
  },
  {
   "cell_type": "markdown",
   "metadata": {
    "deletable": false,
    "editable": false,
    "nbgrader": {
     "cell_type": "markdown",
     "checksum": "ca27f3a830343c1fe63335348b655c45",
     "grade": false,
     "grade_id": "cell-827bde70e5d92fe2",
     "locked": true,
     "schema_version": 3,
     "solution": false,
     "task": false
    }
   },
   "source": [
    "**c)** Estimate the probability that the averages of the two classes are within one point of each other, that is, estimate $P(-1 \\le \\bar{Y} - \\bar{X} \\le 1)$. Hint: What is the distribution of $\\bar{Y} - \\bar{X}$? Round your answer to two decimal places. Save your answer as `p3.c`."
   ]
  },
  {
   "cell_type": "code",
   "execution_count": 6,
   "metadata": {
    "deletable": false,
    "nbgrader": {
     "cell_type": "code",
     "checksum": "70e6e49d4d0073c34f124eb6f3e7bd2c",
     "grade": false,
     "grade_id": "cell-dccf383515b4c2a9",
     "locked": false,
     "schema_version": 3,
     "solution": true,
     "task": false
    },
    "vscode": {
     "languageId": "r"
    }
   },
   "outputs": [
    {
     "data": {
      "text/html": [
       "0.22"
      ],
      "text/latex": [
       "0.22"
      ],
      "text/markdown": [
       "0.22"
      ],
      "text/plain": [
       "[1] 0.22"
      ]
     },
     "metadata": {},
     "output_type": "display_data"
    }
   ],
   "source": [
    "p3.c = NA\n",
    "# your code here\n",
    "# D = Y_hat - X_hat\n",
    "# E[D] = E[Y_hat - X_hat] = E[Y_hat] - E[X_hat] = 75 - 75 = 0\n",
    "# V[D] = V[Y_hat - X_hat] = V[Y_hat] + V[X_hat] = 17^2/30 + 17^2/90 = 12.84444444\n",
    "# D ~ N(0,12.84444444)\n",
    "# P(-1 <= D <= 1) = P((-1-0)/sqrt(12.84444444) <= Z <= (1-0)/sqrt(12.84444444)) = P(-0.2790244995 <= Z <= 0.2790244995)\n",
    "p3.c = round(pnorm(0.2790244995) - pnorm(-0.2790244995), digits=2)\n",
    "p3.c"
   ]
  },
  {
   "cell_type": "markdown",
   "metadata": {
    "deletable": false,
    "editable": false,
    "nbgrader": {
     "cell_type": "markdown",
     "checksum": "ac192f37c639556e6341d58ee29ba0f8",
     "grade": false,
     "grade_id": "cell-79e624ff27d152fc",
     "locked": true,
     "schema_version": 3,
     "solution": false,
     "task": false
    }
   },
   "source": [
    "# Problem 4\n",
    "\n",
    " The Central Limit Theorem states: Let $X_1, \\dots, X_n$ be a random sample with $E[X_i] = \\mu$ and $Var(X_i)=\\sigma^2$. If $n$ is sufficiently large, then $\\bar{X}$ has approximately a normal distribution with mean $\\mu_{\\bar{X}} = \\mu$ and variance $\\sigma_{\\bar{X}}^2 = \\sigma^2/n$. It's also true that $\\sum_{i=1}^n X_i \\sim N(n\\mu, n\\sigma^2)$. \n",
    " \n",
    "Suppose a machine requires a specific type of battery that lasts an exponential amount of time with mean $25$ hours. As soon as the battery fails, you replace it immediately. If you have $50$ such batteries, estimate the probability that the machine is still operating after $1300$ hours. Round your answer to three decimal places. Save your answer as `p4`."
   ]
  },
  {
   "cell_type": "code",
   "execution_count": 7,
   "metadata": {
    "deletable": false,
    "nbgrader": {
     "cell_type": "code",
     "checksum": "69f2e41db640003fa454b10b55b464f0",
     "grade": false,
     "grade_id": "cell-47ca5d695e456ee2",
     "locked": false,
     "schema_version": 3,
     "solution": true,
     "task": false
    },
    "vscode": {
     "languageId": "r"
    }
   },
   "outputs": [
    {
     "data": {
      "text/html": [
       "0.389"
      ],
      "text/latex": [
       "0.389"
      ],
      "text/markdown": [
       "0.389"
      ],
      "text/plain": [
       "[1] 0.389"
      ]
     },
     "metadata": {},
     "output_type": "display_data"
    }
   ],
   "source": [
    "p4 = NA\n",
    "# your code here\n",
    "# An exponential distribution has E[X] = 1/λ and V[X] = 1/(λ^2). If 𝜇 = 25 then λ = 1/25\n",
    "# E[X] = 25, V[X] = 625\n",
    "# X_hat = X1 + X2 + ... + X50\n",
    "# E[X_hat] = 50 * 25, V[X_hat] = 50 * 625\n",
    "# P(X_hat > 1300) = ? => Find 1 - P(X_hat <= 1300) where X_hat ~ N(1250, 31250)\n",
    "# 1 - P(Z <= (1300-1250)/sqrt(31250)) = 1 - P(Z <= 0.2828427125)\n",
    "p4 = round(1 - pnorm(0.2828427125), digits=3)\n",
    "p4"
   ]
  }
 ],
 "metadata": {
  "kernelspec": {
   "display_name": "R",
   "language": "R",
   "name": "ir"
  },
  "language_info": {
   "codemirror_mode": "r",
   "file_extension": ".r",
   "mimetype": "text/x-r-source",
   "name": "R",
   "pygments_lexer": "r",
   "version": "3.6.3"
  }
 },
 "nbformat": 4,
 "nbformat_minor": 4
}
