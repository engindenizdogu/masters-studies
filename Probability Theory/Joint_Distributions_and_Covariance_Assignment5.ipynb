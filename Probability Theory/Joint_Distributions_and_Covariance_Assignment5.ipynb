{
 "cells": [
  {
   "cell_type": "markdown",
   "metadata": {
    "deletable": false,
    "editable": false,
    "nbgrader": {
     "cell_type": "markdown",
     "checksum": "3462dfcfe117194747781af3d1a6b97b",
     "grade": false,
     "grade_id": "cell-f0ab9cd622875579",
     "locked": true,
     "schema_version": 3,
     "solution": false,
     "task": false
    }
   },
   "source": [
    "## Module 5 Assessment"
   ]
  },
  {
   "cell_type": "code",
   "execution_count": 1,
   "metadata": {
    "deletable": false,
    "editable": false,
    "nbgrader": {
     "cell_type": "code",
     "checksum": "bc4ec69ebd2eb9a303ae4d1dc79c1608",
     "grade": false,
     "grade_id": "cell-eca9fa391ffa1807",
     "locked": true,
     "schema_version": 3,
     "solution": false,
     "task": false
    },
    "vscode": {
     "languageId": "r"
    }
   },
   "outputs": [],
   "source": [
    "library(testthat)"
   ]
  },
  {
   "cell_type": "markdown",
   "metadata": {
    "deletable": false,
    "editable": false,
    "nbgrader": {
     "cell_type": "markdown",
     "checksum": "9873d16121ff53fe9b1baf6d0fb35afe",
     "grade": false,
     "grade_id": "cell-1d128a6d034a528e",
     "locked": true,
     "schema_version": 3,
     "solution": false,
     "task": false
    }
   },
   "source": [
    "### Problem 1\n",
    "Let $X$ be a random variable such that $E(X) = 3$, $sd(X) = 4$, and let $Y$ be a\n",
    "r.v. such that $E(Y ) = 1$, $sd(Y ) = 2$. $X$ and $Y$ are not linearly independent, and\n",
    "$corr(X, Y ) = 0.5$."
   ]
  },
  {
   "cell_type": "markdown",
   "metadata": {
    "deletable": false,
    "editable": false,
    "nbgrader": {
     "cell_type": "markdown",
     "checksum": "3a5c42f442b641225f16d4e3015e7539",
     "grade": false,
     "grade_id": "cell-417dbf7237ee4ea8",
     "locked": true,
     "schema_version": 3,
     "solution": false,
     "task": false
    }
   },
   "source": [
    "**a)** What is $E(X + 3Y + 1)$?"
   ]
  },
  {
   "cell_type": "code",
   "execution_count": 2,
   "metadata": {
    "deletable": false,
    "nbgrader": {
     "cell_type": "code",
     "checksum": "614f75464120de08da6c4edf6b19d88b",
     "grade": false,
     "grade_id": "cell-9fed1d17ff762b2a",
     "locked": false,
     "schema_version": 3,
     "solution": true,
     "task": false
    },
    "vscode": {
     "languageId": "r"
    }
   },
   "outputs": [
    {
     "data": {
      "text/html": [
       "7"
      ],
      "text/latex": [
       "7"
      ],
      "text/markdown": [
       "7"
      ],
      "text/plain": [
       "[1] 7"
      ]
     },
     "metadata": {},
     "output_type": "display_data"
    }
   ],
   "source": [
    "e1.1 = NA\n",
    "# your code here\n",
    "# E(X+3Y+1) = E(X) + 3E(Y) + E(1)\n",
    "ex = 3 #E(X)\n",
    "ey = 1 #E(Y)\n",
    "e1.1 = ex + 3*ey + 1\n",
    "e1.1"
   ]
  },
  {
   "cell_type": "markdown",
   "metadata": {
    "deletable": false,
    "editable": false,
    "nbgrader": {
     "cell_type": "markdown",
     "checksum": "8ba70e5ba414a3a4b8caf70cadc455f4",
     "grade": false,
     "grade_id": "cell-7ae57d3e6199b834",
     "locked": true,
     "schema_version": 3,
     "solution": false,
     "task": false
    }
   },
   "source": [
    "**b)** What is $sd(4X + 2Y + 2)$? Round your answer to two decimal places."
   ]
  },
  {
   "cell_type": "code",
   "execution_count": 70,
   "metadata": {
    "deletable": false,
    "nbgrader": {
     "cell_type": "code",
     "checksum": "b77c05d17f60ba39922b2a0826ff5184",
     "grade": false,
     "grade_id": "cell-c6da0d35d116dd9d",
     "locked": false,
     "schema_version": 3,
     "solution": true,
     "task": false
    },
    "vscode": {
     "languageId": "r"
    }
   },
   "outputs": [
    {
     "data": {
      "text/html": [
       "18.33"
      ],
      "text/latex": [
       "18.33"
      ],
      "text/markdown": [
       "18.33"
      ],
      "text/plain": [
       "[1] 18.33"
      ]
     },
     "metadata": {},
     "output_type": "display_data"
    }
   ],
   "source": [
    "sd1.2 = NA\n",
    "# your code here\n",
    "# V(aX + bY ) = a^2*V(X) + b^2*V(Y) + 2abCov(X,Y)\n",
    "# sd(4X+2Y+2) = sqrt(var(4X+2Y+2))\n",
    "# var(4X+2Y+2) = var(4X+2Y) = 16V(X) + 4V(Y) + 2*4*2*cov(x,y)\n",
    "# corr(x,y) = cov(x,y) / sd(x)*sd(y)\n",
    "corr.xy = 0.5\n",
    "sdx = 4\n",
    "sdy = 2\n",
    "vx = sdx^2 #V(X)\n",
    "vy = sdy^2 #V(Y)\n",
    "v = 16*vx + 4*vy + 2*4*2*corr.xy*sdx*sdy\n",
    "sd1.2 = round(sqrt(v),digits=2)\n",
    "sd1.2"
   ]
  },
  {
   "cell_type": "markdown",
   "metadata": {
    "deletable": false,
    "editable": false,
    "nbgrader": {
     "cell_type": "markdown",
     "checksum": "a1bd02d0838f0e05cdd16944828700ee",
     "grade": false,
     "grade_id": "cell-c2f86590e24db895",
     "locked": true,
     "schema_version": 3,
     "solution": false,
     "task": false
    }
   },
   "source": [
    "**c)** What is $E(3X - 2Y - 10)$?"
   ]
  },
  {
   "cell_type": "code",
   "execution_count": 9,
   "metadata": {
    "deletable": false,
    "nbgrader": {
     "cell_type": "code",
     "checksum": "d349774d4bea732848f040d37b671d6b",
     "grade": false,
     "grade_id": "cell-5bf7d109d3494bac",
     "locked": false,
     "schema_version": 3,
     "solution": true,
     "task": false
    },
    "vscode": {
     "languageId": "r"
    }
   },
   "outputs": [
    {
     "data": {
      "text/html": [
       "-3"
      ],
      "text/latex": [
       "-3"
      ],
      "text/markdown": [
       "-3"
      ],
      "text/plain": [
       "[1] -3"
      ]
     },
     "metadata": {},
     "output_type": "display_data"
    }
   ],
   "source": [
    "e1.3 = NA\n",
    "# your code here\n",
    "# E(X+3Y+1) = 3E(X) - 2E(Y) - E(10)\n",
    "e1.3 = 3*ex - 2*ey -10\n",
    "e1.3"
   ]
  },
  {
   "cell_type": "markdown",
   "metadata": {
    "deletable": false,
    "editable": false,
    "nbgrader": {
     "cell_type": "markdown",
     "checksum": "99124461621c6de35ea87d6e9adbdc20",
     "grade": false,
     "grade_id": "cell-50889c1e3d32dbf7",
     "locked": true,
     "schema_version": 3,
     "solution": false,
     "task": false
    }
   },
   "source": [
    "**d)** What is $sd(3X - 3Y - 5)$? Round your answer to two decimal places."
   ]
  },
  {
   "cell_type": "code",
   "execution_count": 73,
   "metadata": {
    "deletable": false,
    "nbgrader": {
     "cell_type": "code",
     "checksum": "0e5c481e495a06c32fb12fd9eeee474a",
     "grade": false,
     "grade_id": "cell-9d5aa30a9efbee2f",
     "locked": false,
     "schema_version": 3,
     "solution": true,
     "task": false
    },
    "vscode": {
     "languageId": "r"
    }
   },
   "outputs": [
    {
     "data": {
      "text/html": [
       "10.39"
      ],
      "text/latex": [
       "10.39"
      ],
      "text/markdown": [
       "10.39"
      ],
      "text/plain": [
       "[1] 10.39"
      ]
     },
     "metadata": {},
     "output_type": "display_data"
    }
   ],
   "source": [
    "sd1.4 = NA\n",
    "# your code here\n",
    "# sd(3X-3Y-5) = sqrt(var(3X-3Y-5))\n",
    "# var(3X-3Y-5) = var(3X-3Y) = 9V(X) + 9V(Y) + 2*3*(-3)*cov(x,y)\n",
    "v = 9*vx + 9*vy + 2*3*(-3)*corr.xy*sdx*sdy\n",
    "sd1.4 = round(sqrt(v),digits=2)\n",
    "sd1.4"
   ]
  },
  {
   "cell_type": "markdown",
   "metadata": {
    "deletable": false,
    "editable": false,
    "nbgrader": {
     "cell_type": "markdown",
     "checksum": "c225da44e1a7ae313cfdce125a07886a",
     "grade": false,
     "grade_id": "cell-3a1f27cba739fb63",
     "locked": true,
     "schema_version": 3,
     "solution": false,
     "task": false
    }
   },
   "source": [
    "### Problem 2\n",
    "\n",
    "Two components needed in automotive manufacturing each can be represented in 1 of 3 grades. Let $X$ be the cost of the first component (in hundreds of dollars) and let $Y$ be the cost of the second component (also in hundreds of dollars). The following table represents the weekly fraction of cars that utilize each combination of these components.\n",
    "\n",
    "|      | y=7 | y=9 | y=10 |\n",
    "| ----- | ----- | ----- | ----- |\n",
    "| x=7 | 0.05 | 0.05 | 0.10 |\n",
    "| x=9 | 0.05 | 0.10 | 0.35 |\n",
    "| x=10 | 0 | 0.20 | 0.10 |"
   ]
  },
  {
   "cell_type": "markdown",
   "metadata": {
    "deletable": false,
    "editable": false,
    "nbgrader": {
     "cell_type": "markdown",
     "checksum": "e4df4d411c1a9fb7e04dc3340ae40d7c",
     "grade": false,
     "grade_id": "cell-480390578aaafb46",
     "locked": true,
     "schema_version": 3,
     "solution": false,
     "task": false
    }
   },
   "source": [
    "**a)** What is $Cov(X, Y)$? Round your answer to three decimal places."
   ]
  },
  {
   "cell_type": "code",
   "execution_count": 86,
   "metadata": {
    "deletable": false,
    "nbgrader": {
     "cell_type": "code",
     "checksum": "7e653c0386136cf8317d3bdc595244bb",
     "grade": false,
     "grade_id": "cell-702af8af57ff974e",
     "locked": false,
     "schema_version": 3,
     "solution": true,
     "task": false
    },
    "vscode": {
     "languageId": "r"
    }
   },
   "outputs": [
    {
     "data": {
      "text/html": [
       "0.135"
      ],
      "text/latex": [
       "0.135"
      ],
      "text/markdown": [
       "0.135"
      ],
      "text/plain": [
       "[1] 0.135"
      ]
     },
     "metadata": {},
     "output_type": "display_data"
    }
   ],
   "source": [
    "cov.xy = NA\n",
    "# your code here\n",
    "# Mean of X and Y\n",
    "ex = (7*0.2) + (9*0.5) + (10*0.3)\n",
    "ey = (7*0.1) + (9*0.35) + (10*0.55)\n",
    "\n",
    "# Create the probability table above\n",
    "probs <- matrix(c(0.05, 0.05, 0, 0.05, 0.1, 0.2, 0.1, 0.35, 0.1),3,3)\n",
    "dimnames(probs) <- list(c('7', '9', '10'),c('7', '9', '10'))\n",
    "\n",
    "# Calculate covariance\n",
    "cov.xy = 0\n",
    "x = c('7', '9', '10')\n",
    "y = c('7', '9', '10')\n",
    "for(i in x){\n",
    "    for(j in y){\n",
    "        cov.xy = cov.xy + (strtoi(i)-ex)*(strtoi(j)-ey)*probs[i,j]\n",
    "    }\n",
    "}\n",
    "\n",
    "cov.xy"
   ]
  },
  {
   "cell_type": "markdown",
   "metadata": {
    "deletable": false,
    "editable": false,
    "nbgrader": {
     "cell_type": "markdown",
     "checksum": "69b0be5be477d704b575a60fb98696bf",
     "grade": false,
     "grade_id": "cell-d35e5674a9720375",
     "locked": true,
     "schema_version": 3,
     "solution": false,
     "task": false
    }
   },
   "source": [
    "**b)** Suppose the random variables measure the cost of each part in dollars, rather than hundreds of dollars. In this case, the random variables would be $U = 100X$ and $V = 100Y$. What is $Cov(U, V)$? (This question shows us how changing the units of the random variable can change the value of the covariance) "
   ]
  },
  {
   "cell_type": "code",
   "execution_count": 95,
   "metadata": {
    "deletable": false,
    "nbgrader": {
     "cell_type": "code",
     "checksum": "0afe953968db046f6b37488323b84ce6",
     "grade": false,
     "grade_id": "cell-e0af6f546abea7ff",
     "locked": false,
     "schema_version": 3,
     "solution": true,
     "task": false
    },
    "vscode": {
     "languageId": "r"
    }
   },
   "outputs": [
    {
     "data": {
      "text/html": [
       "1350"
      ],
      "text/latex": [
       "1350"
      ],
      "text/markdown": [
       "1350"
      ],
      "text/plain": [
       "[1] 1350"
      ]
     },
     "metadata": {},
     "output_type": "display_data"
    }
   ],
   "source": [
    "cov.uv = NA\n",
    "# your code here\n",
    "eu = 100*ex # E[100X] = 100E[X]\n",
    "ev = 100*ey # E[100Y] = 100E[Y]\n",
    "\n",
    "# Create the probability table above\n",
    "probs <- matrix(c(0.05, 0.05, 0, 0.05, 0.1, 0.2, 0.1, 0.35, 0.1),3,3)\n",
    "dimnames(probs) <- list(c('7', '9', '10'),c('7', '9', '10'))\n",
    "\n",
    "# Calculate covariance\n",
    "cov.uv = 0\n",
    "for(i in x){\n",
    "    for(j in y){\n",
    "        cov.uv= cov.uv + (100*strtoi(i)-eu)*(100*strtoi(j)-ev)*probs[i,j]\n",
    "    }\n",
    "}\n",
    "\n",
    "cov.uv"
   ]
  },
  {
   "cell_type": "markdown",
   "metadata": {
    "deletable": false,
    "editable": false,
    "nbgrader": {
     "cell_type": "markdown",
     "checksum": "92f5b85deab2c86b8a4deb8f2eda06aa",
     "grade": false,
     "grade_id": "cell-101e78cfad1832ae",
     "locked": true,
     "schema_version": 3,
     "solution": false,
     "task": false
    }
   },
   "source": [
    "**c)** What is the correlation coefficient $\\rho_{X,Y}$? Save this value as `rho.xy`. What is the correlation coefficient $\\rho_{U,V}$? Save this value as `rho.uv`? Round your answers to three decimal places."
   ]
  },
  {
   "cell_type": "code",
   "execution_count": 96,
   "metadata": {
    "deletable": false,
    "nbgrader": {
     "cell_type": "code",
     "checksum": "9b5ff66cb1e844e96c7e948efd74de2f",
     "grade": false,
     "grade_id": "cell-60e581d2fd5217fc",
     "locked": false,
     "schema_version": 3,
     "solution": true,
     "task": false
    },
    "vscode": {
     "languageId": "r"
    }
   },
   "outputs": [
    {
     "data": {
      "text/html": [
       "0.142"
      ],
      "text/latex": [
       "0.142"
      ],
      "text/markdown": [
       "0.142"
      ],
      "text/plain": [
       "[1] 0.142"
      ]
     },
     "metadata": {},
     "output_type": "display_data"
    },
    {
     "data": {
      "text/html": [
       "0.142"
      ],
      "text/latex": [
       "0.142"
      ],
      "text/markdown": [
       "0.142"
      ],
      "text/plain": [
       "[1] 0.142"
      ]
     },
     "metadata": {},
     "output_type": "display_data"
    }
   ],
   "source": [
    "rho.xy = NA\n",
    "rho.uv = NA\n",
    "# your code here\n",
    "# rho.xy = cov.xy / sd(x) * sd(y)\n",
    "# rho.uv = cov.uv / sd(u) * sd(v)\n",
    "\n",
    "# p(X=7)=0.20, p(X=9)=0.50, p(X=10)=0.30\n",
    "# p(Y=7)=0.10, p(Y=9)=0.35, p(Y=10)=0.55\n",
    "px = c(0.2,0.5,0.3)\n",
    "py = c(0.1,0.35,0.55)\n",
    "\n",
    "# Calculate V(X) and V(Y)\n",
    "vx = 0\n",
    "vy = 0\n",
    "for(i in 1:length(x)){\n",
    "    vx = vx + ((strtoi(x[i]) - ex)^2 * px[i])\n",
    "}\n",
    "\n",
    "for(j in 1:length(y)){\n",
    "    vy = vy + ((strtoi(y[j]) - ey)^2 * py[j])\n",
    "}\n",
    "\n",
    "rho.xy = round(cov.xy / (sqrt(vx) * sqrt(vy)),digits=3)\n",
    "\n",
    "# Calculate V(U) and V(V)\n",
    "vu = 100^2 * vx # V(U) = V(100X) = 100^2 * V(X)\n",
    "vv = 100^2 * vy # V(V) = V(100Y) = 100^2 * V(Y)\n",
    "\n",
    "rho.uv = round(cov.uv / (sqrt(vu) * sqrt(vv)),digits=3)\n",
    "\n",
    "rho.xy\n",
    "rho.uv"
   ]
  }
 ],
 "metadata": {
  "kernelspec": {
   "display_name": "R",
   "language": "R",
   "name": "ir"
  },
  "language_info": {
   "codemirror_mode": "r",
   "file_extension": ".r",
   "mimetype": "text/x-r-source",
   "name": "R",
   "pygments_lexer": "r",
   "version": "3.6.3"
  }
 },
 "nbformat": 4,
 "nbformat_minor": 4
}
