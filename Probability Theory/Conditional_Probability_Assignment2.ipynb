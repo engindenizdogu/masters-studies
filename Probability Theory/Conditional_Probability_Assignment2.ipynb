{
 "cells": [
  {
   "cell_type": "markdown",
   "metadata": {
    "deletable": false,
    "editable": false,
    "nbgrader": {
     "cell_type": "markdown",
     "checksum": "2a4abe79f0aa201875cacdab20c0a133",
     "grade": false,
     "grade_id": "cell-f252f07e0bcecc14",
     "locked": true,
     "schema_version": 3,
     "solution": false,
     "task": false
    }
   },
   "source": [
    "# Module 2 Assessment\n",
    "In this notebook you will use the rules of conditional probability to solve various problems. Please read each statement and answer all questions in the code blocks that contain \"your code here\". Feel free to add as many blocks as you need, only the original code blocks will be graded."
   ]
  },
  {
   "cell_type": "code",
   "execution_count": 1,
   "metadata": {
    "deletable": false,
    "editable": false,
    "nbgrader": {
     "cell_type": "code",
     "checksum": "4b4578ba2b48c47b0100c9a57db3ca76",
     "grade": false,
     "grade_id": "cell-09e0e7d3480826e1",
     "locked": true,
     "schema_version": 3,
     "solution": false,
     "task": false
    },
    "vscode": {
     "languageId": "r"
    }
   },
   "outputs": [],
   "source": [
    "#Hidden cell that imports the test_that library\n",
    "library(testthat)"
   ]
  },
  {
   "cell_type": "markdown",
   "metadata": {
    "deletable": false,
    "editable": false,
    "nbgrader": {
     "cell_type": "markdown",
     "checksum": "937f957a908759ebaf3038b540d61396",
     "grade": false,
     "grade_id": "cell-bad16d2b40d8d116",
     "locked": true,
     "schema_version": 3,
     "solution": false,
     "task": false
    }
   },
   "source": [
    "### Problem 1"
   ]
  },
  {
   "cell_type": "markdown",
   "metadata": {
    "deletable": false,
    "editable": false,
    "nbgrader": {
     "cell_type": "markdown",
     "checksum": "9e2e6bf41c5dcdc89f7c844512ced96c",
     "grade": false,
     "grade_id": "cell-0c20af4f37e54273",
     "locked": true,
     "schema_version": 3,
     "solution": false,
     "task": false
    }
   },
   "source": [
    "The CU Boulder triathlon team has 12 women and 9 men. The team is\n",
    "going to a race and can only enter 5 participants. What is the probability of\n",
    "randomly selecting a race squad of 5 participants with exactly 3 women? Round your answer to three decimal places. Enter your solution into variable `p1.1`."
   ]
  },
  {
   "cell_type": "code",
   "execution_count": 35,
   "metadata": {
    "deletable": false,
    "nbgrader": {
     "cell_type": "code",
     "checksum": "6611d78f59618849e44e7d18a1df9ee2",
     "grade": false,
     "grade_id": "cell-58708b1e768f5ca4",
     "locked": false,
     "schema_version": 3,
     "solution": true,
     "task": false
    },
    "vscode": {
     "languageId": "r"
    }
   },
   "outputs": [
    {
     "data": {
      "text/html": [
       "0.389"
      ],
      "text/latex": [
       "0.389"
      ],
      "text/markdown": [
       "0.389"
      ],
      "text/plain": [
       "[1] 0.389"
      ]
     },
     "metadata": {},
     "output_type": "display_data"
    }
   ],
   "source": [
    "p1.1 = NA\n",
    "# your code here\n",
    "p1.1 = round((choose(12,3)*choose(9,2)) / choose(21,5), digits=3)\n",
    "p1.1"
   ]
  },
  {
   "cell_type": "markdown",
   "metadata": {
    "deletable": false,
    "editable": false,
    "nbgrader": {
     "cell_type": "markdown",
     "checksum": "60299dc3a9a467e6ee94000184ab303e",
     "grade": false,
     "grade_id": "cell-bc5688f0d8d5a6cf",
     "locked": true,
     "schema_version": 3,
     "solution": false,
     "task": false
    }
   },
   "source": [
    "### Problem 2"
   ]
  },
  {
   "cell_type": "markdown",
   "metadata": {
    "deletable": false,
    "editable": false,
    "nbgrader": {
     "cell_type": "markdown",
     "checksum": "1e775c96fc83f0e77026e00ffb86a03b",
     "grade": false,
     "grade_id": "cell-fe08ad90153f3dd5",
     "locked": true,
     "schema_version": 3,
     "solution": false,
     "task": false
    }
   },
   "source": [
    "Suppose a particular crime is committed in Jerry’s apartment. We’d like to know\n",
    "whether Newman is guilty of the crime. We are torn as to whether we think he is\n",
    "guilty: we think it’s equally likely that he is guilty or not guilty. Suppose that, in\n",
    "similar situations, we know that if a suspect is guilty, $85\\%$ of the time their finger\n",
    "prints are found at the scene, and, we know that if a suspect is not guilty, $30\\%$ of\n",
    "the time their finger prints are found at the scene."
   ]
  },
  {
   "cell_type": "markdown",
   "metadata": {
    "deletable": false,
    "editable": false,
    "nbgrader": {
     "cell_type": "markdown",
     "checksum": "18fa64ceeb5a482ab47db4c8f02512b8",
     "grade": false,
     "grade_id": "cell-24220e0ede3db5a0",
     "locked": true,
     "schema_version": 3,
     "solution": false,
     "task": false
    }
   },
   "source": [
    "**a)** What is the probability that Newman’s finger prints are found at the scene? Round your answer to three decimal places. Enter your solution into variable `p2.1`."
   ]
  },
  {
   "cell_type": "code",
   "execution_count": 11,
   "metadata": {
    "deletable": false,
    "nbgrader": {
     "cell_type": "code",
     "checksum": "7122bcf5ced374a3421a57b45a1158b5",
     "grade": false,
     "grade_id": "cell-11efc9faec88ab1b",
     "locked": false,
     "schema_version": 3,
     "solution": true,
     "task": false
    },
    "vscode": {
     "languageId": "r"
    }
   },
   "outputs": [
    {
     "data": {
      "text/html": [
       "0.575"
      ],
      "text/latex": [
       "0.575"
      ],
      "text/markdown": [
       "0.575"
      ],
      "text/plain": [
       "[1] 0.575"
      ]
     },
     "metadata": {},
     "output_type": "display_data"
    }
   ],
   "source": [
    "p2.1 = NA\n",
    "# your code here\n",
    "# \n",
    "#                 fingerprints: 0.85\n",
    "#                / \n",
    "#   guilty: 0.50\n",
    "#  /             \\ \n",
    "# /               no fingerprints: 0.15\n",
    "#               \n",
    "# \\                   fingerprints: 0.30\n",
    "#  \\                / \n",
    "#   not guilty: 0.50\n",
    "#                   \\\n",
    "#                    no fingerprints: 0.70\n",
    "\n",
    "p_g_f = 0.5 * 0.85 # guilty and fingerprints found P(G n F)\n",
    "p_ng_f = 0.5 * 0.30 # not guilty and fingerprints found P(NG n F)\n",
    "p2.1 = round(p_g_f + p_ng_f, digits=3) # P(F) = P(G n F) + P(NG n F)\n",
    "p2.1"
   ]
  },
  {
   "cell_type": "markdown",
   "metadata": {
    "deletable": false,
    "editable": false,
    "nbgrader": {
     "cell_type": "markdown",
     "checksum": "c493e96ee32d4548e1e7a7c8c7eaddb2",
     "grade": false,
     "grade_id": "cell-b3e1e88ef7de16c8",
     "locked": true,
     "schema_version": 3,
     "solution": false,
     "task": false
    }
   },
   "source": [
    "**b)** If Newman’s finger prints are found at the scene, how likely is it that he is\n",
    "guilty? Round your answer to three decimal places. Enter your solution into variable `p2.2`."
   ]
  },
  {
   "cell_type": "code",
   "execution_count": 14,
   "metadata": {
    "deletable": false,
    "nbgrader": {
     "cell_type": "code",
     "checksum": "5670a233baa2979b032ac474d30a1c63",
     "grade": false,
     "grade_id": "cell-9826937798294c39",
     "locked": false,
     "schema_version": 3,
     "solution": true,
     "task": false
    },
    "vscode": {
     "languageId": "r"
    }
   },
   "outputs": [
    {
     "data": {
      "text/html": [
       "0.739"
      ],
      "text/latex": [
       "0.739"
      ],
      "text/markdown": [
       "0.739"
      ],
      "text/plain": [
       "[1] 0.739"
      ]
     },
     "metadata": {},
     "output_type": "display_data"
    }
   ],
   "source": [
    "p2.2 = NA\n",
    "# your code here\n",
    "# P(G|F) = P(GnF) / P(F)\n",
    "p2.2 = round(p_g_f/p2.1, digits=3)\n",
    "p2.2"
   ]
  },
  {
   "cell_type": "markdown",
   "metadata": {
    "deletable": false,
    "editable": false,
    "nbgrader": {
     "cell_type": "markdown",
     "checksum": "b16d504c5994300947203a3873c38886",
     "grade": false,
     "grade_id": "cell-c2084ee507b5aea0",
     "locked": true,
     "schema_version": 3,
     "solution": false,
     "task": false
    }
   },
   "source": [
    "**c)** If Newman’s finger prints are not found at the scene, how likely is it that he\n",
    "is guilty? Round your answer to three decimal places. Enter your answer into variable `p2.3`."
   ]
  },
  {
   "cell_type": "code",
   "execution_count": 16,
   "metadata": {
    "deletable": false,
    "nbgrader": {
     "cell_type": "code",
     "checksum": "3e17eb1279681146ebc9b7b540835034",
     "grade": false,
     "grade_id": "cell-57c466b9c64d89ae",
     "locked": false,
     "schema_version": 3,
     "solution": true,
     "task": false
    },
    "vscode": {
     "languageId": "r"
    }
   },
   "outputs": [
    {
     "data": {
      "text/html": [
       "0.176"
      ],
      "text/latex": [
       "0.176"
      ],
      "text/markdown": [
       "0.176"
      ],
      "text/plain": [
       "[1] 0.176"
      ]
     },
     "metadata": {},
     "output_type": "display_data"
    }
   ],
   "source": [
    "p2.3 = NA\n",
    "# your code here\n",
    "# P(G|NF) = P(GnNF) / P(NF)\n",
    "p_g_nf = 0.5 * 0.15\n",
    "p_nf = 0.5 * 0.15 + 0.5 * 0.7\n",
    "p2.3 = round(p_g_nf / p_nf, digits=3)\n",
    "p2.3"
   ]
  },
  {
   "cell_type": "markdown",
   "metadata": {
    "deletable": false,
    "editable": false,
    "nbgrader": {
     "cell_type": "markdown",
     "checksum": "bc3b0963a5f658b9dab17187841cf1d0",
     "grade": false,
     "grade_id": "cell-dd157036484dfbaf",
     "locked": true,
     "schema_version": 3,
     "solution": false,
     "task": false
    }
   },
   "source": [
    "### Problem 3"
   ]
  },
  {
   "cell_type": "markdown",
   "metadata": {
    "deletable": false,
    "editable": false,
    "nbgrader": {
     "cell_type": "markdown",
     "checksum": "efba57ac6a0f6576ad9fe631c965ef51",
     "grade": false,
     "grade_id": "cell-020a1d6c10114085",
     "locked": true,
     "schema_version": 3,
     "solution": false,
     "task": false
    }
   },
   "source": [
    "The game of Yahtzee is played with five fair dice. The goal is to roll certain\n",
    "‘hands’, such as Yahtzee (all five dice showing the same number) or a full house\n",
    "(three of a kind and two of a kind). In the first round of a player’s turn, the player\n",
    "rolls all five dice. Based on the outcome of that roll, the player has a second and\n",
    "third round, where he/she can then choose to re-roll any subset of the dice to get\n",
    "a desired hand."
   ]
  },
  {
   "cell_type": "markdown",
   "metadata": {
    "deletable": false,
    "editable": false,
    "nbgrader": {
     "cell_type": "markdown",
     "checksum": "91d46ff58f20379ac831770848f180e6",
     "grade": false,
     "grade_id": "cell-5b8ca03667ad6d53",
     "locked": true,
     "schema_version": 3,
     "solution": false,
     "task": false
    }
   },
   "source": [
    "**a)** What is the probability of rolling a Yahtzee (all 5 dice showing the same number) on the first round? Round your answer to 4 decimal places. Enter your answer into variable `p3.1`."
   ]
  },
  {
   "cell_type": "code",
   "execution_count": 20,
   "metadata": {
    "deletable": false,
    "nbgrader": {
     "cell_type": "code",
     "checksum": "f438dc60ac92822a8f3120f64b817d7e",
     "grade": false,
     "grade_id": "cell-37571027aac6dcbd",
     "locked": false,
     "schema_version": 3,
     "solution": true,
     "task": false
    },
    "vscode": {
     "languageId": "r"
    }
   },
   "outputs": [
    {
     "data": {
      "text/html": [
       "8e-04"
      ],
      "text/latex": [
       "8e-04"
      ],
      "text/markdown": [
       "8e-04"
      ],
      "text/plain": [
       "[1] 8e-04"
      ]
     },
     "metadata": {},
     "output_type": "display_data"
    }
   ],
   "source": [
    "p3.1 = NA\n",
    "# your code here\n",
    "# Samples: {11111,22222,33333,44444,55555,66666}\n",
    "p3.1 = round(6 * (1/6)^5, digits=4)\n",
    "p3.1"
   ]
  },
  {
   "cell_type": "markdown",
   "metadata": {
    "deletable": false,
    "editable": false,
    "nbgrader": {
     "cell_type": "markdown",
     "checksum": "7ac191fa8203f3b2d53815fbfa74a121",
     "grade": false,
     "grade_id": "cell-e7bb5b8f4e472794",
     "locked": true,
     "schema_version": 3,
     "solution": false,
     "task": false
    }
   },
   "source": [
    "**b)** Suppose that, on the second round, the dice are {2, 3, 4, 6, 6}. You decide to\n",
    "re-roll both sixes in the third round. What is the probability that you roll\n",
    "either a small straight (exactly four dice are in a row) or a large straight (exactly five\n",
    "dice are in a row)? Round your answer to three decimal places. Enter your solution into variable `p3.2`. (Note that to be \"in a row\" means that the dice come up with numbers that could be arranged in a row. Examples of exactly 5 numbers in a row are \"1,2,3,4,5\" or  \"2,3,4,5,6\". You may want to look up small and large straights in Yhatzee if you are unfamilar with the game or confused by this terminology)."
   ]
  },
  {
   "cell_type": "code",
   "execution_count": 22,
   "metadata": {
    "deletable": false,
    "nbgrader": {
     "cell_type": "code",
     "checksum": "3feaaaa54d5f7667f15c4a2fb0edce73",
     "grade": false,
     "grade_id": "cell-e7077af6a32f566a",
     "locked": false,
     "schema_version": 3,
     "solution": true,
     "task": false
    },
    "vscode": {
     "languageId": "r"
    }
   },
   "outputs": [
    {
     "data": {
      "text/html": [
       "0.556"
      ],
      "text/latex": [
       "0.556"
      ],
      "text/markdown": [
       "0.556"
      ],
      "text/plain": [
       "[1] 0.556"
      ]
     },
     "metadata": {},
     "output_type": "display_data"
    }
   ],
   "source": [
    "p3.2 = NA\n",
    "# your code here\n",
    "# For a large straight, it can be either 12345 or 23456 so we can have {15, 51, 56, 65}\n",
    "# For a small straight, it can be either 1234* or 2345* so we can have {11, 12, 13, 14, 16, 21, 31, 41, 61\n",
    "#                                                                       25, 35, 45, 55, 52, 53, 54} \n",
    "# but not (1 and 5) or (5 and 6) because that would make a large straight\n",
    "cardinality = 36\n",
    "p_large = 4 / 36\n",
    "p_small = 16 / 36\n",
    "p3.2 = round(p_large + p_small, digits=3)\n",
    "p3.2"
   ]
  },
  {
   "cell_type": "markdown",
   "metadata": {
    "deletable": false,
    "editable": false,
    "nbgrader": {
     "cell_type": "markdown",
     "checksum": "982c8f62ef07f34ccf67851d235cccf1",
     "grade": false,
     "grade_id": "cell-b50ead4f4783ed43",
     "locked": true,
     "schema_version": 3,
     "solution": false,
     "task": false
    }
   },
   "source": [
    "**c)** What is the probability of rolling a\n",
    "small straight (exactly four dice in a row) on the first round? Round your answer to have three decimal places. Enter your solution into variable `p3.3`."
   ]
  },
  {
   "cell_type": "code",
   "execution_count": 39,
   "metadata": {
    "deletable": false,
    "nbgrader": {
     "cell_type": "code",
     "checksum": "a68da0e4845820778a6d438545d91ae6",
     "grade": false,
     "grade_id": "cell-a8d06417325f7622",
     "locked": false,
     "schema_version": 3,
     "solution": true,
     "task": false
    },
    "vscode": {
     "languageId": "r"
    }
   },
   "outputs": [
    {
     "data": {
      "text/html": [
       "0.123"
      ],
      "text/latex": [
       "0.123"
      ],
      "text/markdown": [
       "0.123"
      ],
      "text/plain": [
       "[1] 0.123"
      ]
     },
     "metadata": {},
     "output_type": "display_data"
    }
   ],
   "source": [
    "p3.3 = NA\n",
    "# your code here\n",
    "# samples: {1234*, *2345*, *3456}, first case: it has to something different than 5, second case: different than 1 and 6, third case: different than 2\n",
    "# Bu we have to consider rolls like these -> 11234 and 23411 (they both result in the same small straight but individual die outcomes are different)\n",
    "# So for example, \n",
    "# 11234 -> 60 different combinations\n",
    "# 12234 -> 60 \"\n",
    "# 12334 -> 60 \"\n",
    "# 12344 -> 60 \"\n",
    "# 12346 -> 120 (because all numbers are different)\n",
    "# In total 360 * 2 favorable outcomes for 1234* and *3456 cases\n",
    "\n",
    "# *2345* is slightly different, we cannot have 1 or 6 since it would result in a large straight\n",
    "# 22345 -> 60 different combinations\n",
    "# 23345 -> 60 \"\n",
    "# 23445 -> 60 \"\n",
    "# 23455 -> 60 \"\n",
    "# Total: 240\n",
    "\n",
    "cardinality = 6^5\n",
    "p3.3 = round((720+240) / cardinality, digits=3)\n",
    "p3.3"
   ]
  },
  {
   "cell_type": "markdown",
   "metadata": {
    "deletable": false,
    "editable": false,
    "nbgrader": {
     "cell_type": "markdown",
     "checksum": "cb3c5bd5519126a7877c6e0132cda624",
     "grade": false,
     "grade_id": "cell-6ca48e7398137b28",
     "locked": true,
     "schema_version": 3,
     "solution": false,
     "task": false
    }
   },
   "source": [
    "### Problem 4"
   ]
  },
  {
   "cell_type": "markdown",
   "metadata": {
    "deletable": false,
    "editable": false,
    "nbgrader": {
     "cell_type": "markdown",
     "checksum": "f1e125718a65501e5518a74675b96279",
     "grade": false,
     "grade_id": "cell-70655dbf15dadade",
     "locked": true,
     "schema_version": 3,
     "solution": false,
     "task": false
    }
   },
   "source": [
    "In 2008, $3\\%$ of adults (age 25 or older) in Boulder, CO had a PhD, $45\\%$ had at\n",
    "least a bachelor’s degree, and $75\\%$ were employed full-time. Consider randomly\n",
    "selecting an adult from Boulder, CO for an interview. Let $A$ denote the event\n",
    "that the individual has a PhD, let $B$ be the event that the individual has a bachelor’s\n",
    "degree, and let $C$ be the event that the individual is employed full-time. Assume that,\n",
    "in order to have a PhD, you must have a bachelor’s degree."
   ]
  },
  {
   "cell_type": "markdown",
   "metadata": {
    "deletable": false,
    "editable": false,
    "nbgrader": {
     "cell_type": "markdown",
     "checksum": "86b0b77e621e34ca7194b2d375df15d6",
     "grade": false,
     "grade_id": "cell-1eb0e1147dff7d12",
     "locked": true,
     "schema_version": 3,
     "solution": false,
     "task": false
    }
   },
   "source": [
    "**a)** Is it possible for $P(A \\cap B) = 0.03$? Enter your answer as a boolean `TRUE` or `FALSE`. Enter your solution into variable `TF_4.1`."
   ]
  },
  {
   "cell_type": "code",
   "execution_count": 28,
   "metadata": {
    "deletable": false,
    "nbgrader": {
     "cell_type": "code",
     "checksum": "0fbe2f9dbbc0d3a422561f060e5de503",
     "grade": false,
     "grade_id": "cell-26047d0cb3e3d86d",
     "locked": false,
     "schema_version": 3,
     "solution": true,
     "task": false
    },
    "vscode": {
     "languageId": "r"
    }
   },
   "outputs": [],
   "source": [
    "TF_4.1 = NA\n",
    "# your code here\n",
    "# Yes, it has to be true since you need a bachelor's degree to have a PhD\n",
    "TF_4.1 = TRUE"
   ]
  },
  {
   "cell_type": "markdown",
   "metadata": {
    "deletable": false,
    "editable": false,
    "nbgrader": {
     "cell_type": "markdown",
     "checksum": "b18ce9e13e1b8fce7eec7cd338a0ebf5",
     "grade": false,
     "grade_id": "cell-ac353a742a858c9d",
     "locked": true,
     "schema_version": 3,
     "solution": false,
     "task": false
    }
   },
   "source": [
    "**b)** For the remaining questions, let $P(B \\cup C) = 0.75$. Compute the probability that the selected individual has a bachelor’s degree and full-time employ-ment. Round your answer to two decimal points. Enter your solution into variable `p4.2`."
   ]
  },
  {
   "cell_type": "code",
   "execution_count": 31,
   "metadata": {
    "deletable": false,
    "nbgrader": {
     "cell_type": "code",
     "checksum": "a8c338891df5e9179f95f8277c328d50",
     "grade": false,
     "grade_id": "cell-ca48c40a3472d8a2",
     "locked": false,
     "schema_version": 3,
     "solution": true,
     "task": false
    },
    "vscode": {
     "languageId": "r"
    }
   },
   "outputs": [
    {
     "data": {
      "text/html": [
       "0.45"
      ],
      "text/latex": [
       "0.45"
      ],
      "text/markdown": [
       "0.45"
      ],
      "text/plain": [
       "[1] 0.45"
      ]
     },
     "metadata": {},
     "output_type": "display_data"
    }
   ],
   "source": [
    "p4.2 = NA\n",
    "# your code here\n",
    "# P(B U C) = P(B) + P(C) - P(BnC)\n",
    "pb = 0.45\n",
    "pc = 0.75\n",
    "pbuc = 0.75\n",
    "pbnc = pb + pc - pbuc\n",
    "p4.2 = round(pbnc, digits=2)\n",
    "p4.2"
   ]
  },
  {
   "cell_type": "markdown",
   "metadata": {
    "deletable": false,
    "editable": false,
    "nbgrader": {
     "cell_type": "markdown",
     "checksum": "cb5ed3e7139de258189d08df2b4fc4b6",
     "grade": false,
     "grade_id": "cell-dcf97167225054ab",
     "locked": true,
     "schema_version": 3,
     "solution": false,
     "task": false
    }
   },
   "source": [
    "**c)** What is the probability that the selected individual has a bachelor’s degree\n",
    "given that they are employed full-time? Round your answers to two decimal places. Save your solution as variable `p4.3`."
   ]
  },
  {
   "cell_type": "code",
   "execution_count": 33,
   "metadata": {
    "deletable": false,
    "nbgrader": {
     "cell_type": "code",
     "checksum": "1d17c741913ebce1605d36fe309f002d",
     "grade": false,
     "grade_id": "cell-cd9e593f264808c3",
     "locked": false,
     "schema_version": 3,
     "solution": true,
     "task": false
    },
    "vscode": {
     "languageId": "r"
    }
   },
   "outputs": [
    {
     "data": {
      "text/html": [
       "0.6"
      ],
      "text/latex": [
       "0.6"
      ],
      "text/markdown": [
       "0.6"
      ],
      "text/plain": [
       "[1] 0.6"
      ]
     },
     "metadata": {},
     "output_type": "display_data"
    }
   ],
   "source": [
    "p4.3 = NA\n",
    "# your code here\n",
    "# P(B|C) = P(BnC) / P(C)\n",
    "p4.3 = round(p4.2 / pc, digits=2)\n",
    "p4.3"
   ]
  }
 ],
 "metadata": {
  "kernelspec": {
   "display_name": "R",
   "language": "R",
   "name": "ir"
  },
  "language_info": {
   "codemirror_mode": "r",
   "file_extension": ".r",
   "mimetype": "text/x-r-source",
   "name": "R",
   "pygments_lexer": "r",
   "version": "3.6.3"
  }
 },
 "nbformat": 4,
 "nbformat_minor": 4
}
