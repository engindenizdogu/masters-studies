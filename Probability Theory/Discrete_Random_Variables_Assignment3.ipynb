{
 "cells": [
  {
   "cell_type": "markdown",
   "metadata": {
    "deletable": false,
    "editable": false,
    "nbgrader": {
     "cell_type": "markdown",
     "checksum": "2f3ea78aafd453d5519e0743549bcc58",
     "grade": false,
     "grade_id": "cell-47ef729965ec0e7a",
     "locked": true,
     "schema_version": 3,
     "solution": false,
     "task": false
    }
   },
   "source": [
    "# Module 3 Assessment\n",
    "In this notebook you will use the rules of conditional probability to solve various problems. Please read each statement and answer all questions in the code blocks that contain \"your code here\". Feel free to add as many blocks as you need, only the original code blocks will be graded."
   ]
  },
  {
   "cell_type": "code",
   "execution_count": 1,
   "metadata": {
    "deletable": false,
    "editable": false,
    "nbgrader": {
     "cell_type": "code",
     "checksum": "ddca9fb41be28f7d08d8e505f493285f",
     "grade": false,
     "grade_id": "cell-a9a0236081ba6e5c",
     "locked": true,
     "schema_version": 3,
     "solution": false,
     "task": false
    },
    "vscode": {
     "languageId": "r"
    }
   },
   "outputs": [],
   "source": [
    "#Hidden cell that imports the test_that library\n",
    "library(testthat)"
   ]
  },
  {
   "cell_type": "markdown",
   "metadata": {
    "deletable": false,
    "editable": false,
    "nbgrader": {
     "cell_type": "markdown",
     "checksum": "c124731c4dc3d32f5fecae8e86604953",
     "grade": false,
     "grade_id": "cell-c0fdedcf806db6cd",
     "locked": true,
     "schema_version": 3,
     "solution": false,
     "task": false
    }
   },
   "source": [
    "### Problem 1\n",
    "\n",
    "The planning department for the local county requires a contractor to submit one, two,\n",
    "three, four, or five forms (depending on the nature of the project) when applying\n",
    "for a building permit. Let $Y$ be the number of forms required for the next applicant.\n",
    "The probability that $y$ forms are required is known to be proportional to $y$; that\n",
    "is, $P(Y = y) = ky$ for $y = 1, ..., 5$."
   ]
  },
  {
   "cell_type": "markdown",
   "metadata": {
    "deletable": false,
    "editable": false,
    "nbgrader": {
     "cell_type": "markdown",
     "checksum": "45bfbfb7bc3fee9331c1478c8a8948de",
     "grade": false,
     "grade_id": "cell-6e05268d00bcdc6b",
     "locked": true,
     "schema_version": 3,
     "solution": false,
     "task": false
    }
   },
   "source": [
    "#### Part a)\n",
    "What is the value of k? Save your answer as `p1.1`."
   ]
  },
  {
   "cell_type": "code",
   "execution_count": 2,
   "metadata": {
    "deletable": false,
    "nbgrader": {
     "cell_type": "code",
     "checksum": "484323a155980f4d524912094eb73f86",
     "grade": false,
     "grade_id": "cell-c8ec7e2deaf3a11c",
     "locked": false,
     "schema_version": 3,
     "solution": true,
     "task": false
    },
    "vscode": {
     "languageId": "r"
    }
   },
   "outputs": [
    {
     "data": {
      "text/html": [
       "0.0666666666666667"
      ],
      "text/latex": [
       "0.0666666666666667"
      ],
      "text/markdown": [
       "0.0666666666666667"
      ],
      "text/plain": [
       "[1] 0.06666667"
      ]
     },
     "metadata": {},
     "output_type": "display_data"
    }
   ],
   "source": [
    "p1.1 = NA\n",
    "# your code here\n",
    "# Sum(P(y) from y=1->5) = 1\n",
    "# 1k + 2k + 3k + 4k + 5k = 15k = 1\n",
    "p1.1 = 1/15\n",
    "p1.1"
   ]
  },
  {
   "cell_type": "markdown",
   "metadata": {
    "deletable": false,
    "editable": false,
    "nbgrader": {
     "cell_type": "markdown",
     "checksum": "a888a34cef2158b6ce339c55111cdc42",
     "grade": false,
     "grade_id": "cell-25cef04e0342d8bb",
     "locked": true,
     "schema_version": 3,
     "solution": false,
     "task": false
    }
   },
   "source": [
    "#### Part (b)\n",
    "\n",
    "What is the probability that at most three forms are required? Save your answer as `p1.2`."
   ]
  },
  {
   "cell_type": "code",
   "execution_count": 6,
   "metadata": {
    "deletable": false,
    "nbgrader": {
     "cell_type": "code",
     "checksum": "9049814ebbfc9736206806574af54a14",
     "grade": false,
     "grade_id": "cell-fb543faa53c94c9f",
     "locked": false,
     "schema_version": 3,
     "solution": true,
     "task": false
    },
    "vscode": {
     "languageId": "r"
    }
   },
   "outputs": [
    {
     "data": {
      "text/html": [
       "0.4"
      ],
      "text/latex": [
       "0.4"
      ],
      "text/markdown": [
       "0.4"
      ],
      "text/plain": [
       "[1] 0.4"
      ]
     },
     "metadata": {},
     "output_type": "display_data"
    }
   ],
   "source": [
    "p1.2 = NA\n",
    "# your code here\n",
    "# P(Y<=3) = P(Y=1) + P(Y=2) + P(Y=3)\n",
    "py1 = p1.1 * 1\n",
    "py2 = p1.1 * 2\n",
    "py3 = p1.1 * 3\n",
    "p1.2 = py1 + py2 + py3\n",
    "p1.2"
   ]
  },
  {
   "cell_type": "markdown",
   "metadata": {
    "deletable": false,
    "editable": false,
    "nbgrader": {
     "cell_type": "markdown",
     "checksum": "8310f3994f416744e86c6b45ff2f5785",
     "grade": false,
     "grade_id": "cell-5267c8c6e6267328",
     "locked": true,
     "schema_version": 3,
     "solution": false,
     "task": false
    }
   },
   "source": [
    "#### Part (c)\n",
    "\n",
    "What is the probability that between two and four forms (inclusive) are\n",
    "required? Save your answer as `p1.3`.\n"
   ]
  },
  {
   "cell_type": "code",
   "execution_count": 8,
   "metadata": {
    "deletable": false,
    "nbgrader": {
     "cell_type": "code",
     "checksum": "27edcebc1f94bba282a7912877a64d29",
     "grade": false,
     "grade_id": "cell-70d6a16252ef0dc6",
     "locked": false,
     "schema_version": 3,
     "solution": true,
     "task": false
    },
    "vscode": {
     "languageId": "r"
    }
   },
   "outputs": [
    {
     "data": {
      "text/html": [
       "0.6"
      ],
      "text/latex": [
       "0.6"
      ],
      "text/markdown": [
       "0.6"
      ],
      "text/plain": [
       "[1] 0.6"
      ]
     },
     "metadata": {},
     "output_type": "display_data"
    }
   ],
   "source": [
    "p1.3 = NA\n",
    "# your code here\n",
    "# P(2 <= Y <=4) = P(Y=2) + P(Y=3) + P(Y=4)\n",
    "py4 = p1.1 * 4\n",
    "p1.3 = py2 + py3 + py4\n",
    "p1.3"
   ]
  },
  {
   "cell_type": "markdown",
   "metadata": {
    "deletable": false,
    "editable": false,
    "nbgrader": {
     "cell_type": "markdown",
     "checksum": "dcd08f731d03b4ed760d7713853ef89b",
     "grade": false,
     "grade_id": "cell-d88aa22b4406e001",
     "locked": true,
     "schema_version": 3,
     "solution": false,
     "task": false
    }
   },
   "source": [
    "#### Part (d)\n",
    "\n",
    "Could $P(Y = y) = y^2/50$ for $y = 1, ..., 5$ be the pmf of $Y$ ? Store your answer as TRUE or FALSE. Save your answer as `TF_1.4`."
   ]
  },
  {
   "cell_type": "code",
   "execution_count": 10,
   "metadata": {
    "deletable": false,
    "nbgrader": {
     "cell_type": "code",
     "checksum": "171bda69e7038434b87f1780ef266e59",
     "grade": false,
     "grade_id": "cell-7f280a04c83022d5",
     "locked": false,
     "schema_version": 3,
     "solution": true,
     "task": false
    },
    "vscode": {
     "languageId": "r"
    }
   },
   "outputs": [],
   "source": [
    "TF_1.4 = NA\n",
    "# your code here\n",
    "# Similar to part a,\n",
    "# Sum(y^2/50 from y=1->5) should be equal to 1\n",
    "# When we calculate we get, (1+4+9+16+25) / 50 = 55/50 > 1\n",
    "# Sum should be equal to 1 (sum of probabilities cannot exceed 1), therefore it is FALSE\n",
    "TF_1.4 = FALSE"
   ]
  },
  {
   "cell_type": "markdown",
   "metadata": {
    "deletable": false,
    "editable": false,
    "nbgrader": {
     "cell_type": "markdown",
     "checksum": "80cfda0f5243761bffbb2ea8235de5a0",
     "grade": false,
     "grade_id": "cell-54c10c90db6b1cc2",
     "locked": true,
     "schema_version": 3,
     "solution": false,
     "task": false
    }
   },
   "source": [
    "### Problem 2"
   ]
  },
  {
   "cell_type": "markdown",
   "metadata": {
    "deletable": false,
    "editable": false,
    "nbgrader": {
     "cell_type": "markdown",
     "checksum": "f45845372b5c1889b02b4d5f070085aa",
     "grade": false,
     "grade_id": "cell-3295d48a993d31da",
     "locked": true,
     "schema_version": 3,
     "solution": false,
     "task": false
    }
   },
   "source": [
    "Individuals A and B play a sequence of chess games until one player wins 9 games. A wins an individual game with probability p, and B wins a game with probability 1 − p (i.e., there are no draws). Let X denote the number of games played."
   ]
  },
  {
   "cell_type": "markdown",
   "metadata": {
    "deletable": false,
    "editable": false,
    "nbgrader": {
     "cell_type": "markdown",
     "checksum": "11e850e22f2cb840dffcbf89392fdc80",
     "grade": false,
     "grade_id": "cell-57275ee2f0c9f829",
     "locked": true,
     "schema_version": 3,
     "solution": false,
     "task": false
    }
   },
   "source": [
    "#### Part (a) \n",
    "\n",
    "What are the possible values of X? Store your answers the vector `Vals_2.1`. Don't worry about the order."
   ]
  },
  {
   "cell_type": "code",
   "execution_count": 12,
   "metadata": {
    "deletable": false,
    "nbgrader": {
     "cell_type": "code",
     "checksum": "39105639f69542f5364156f231a43b66",
     "grade": false,
     "grade_id": "cell-f7bd90c205128373",
     "locked": false,
     "schema_version": 3,
     "solution": true,
     "task": false
    },
    "vscode": {
     "languageId": "r"
    }
   },
   "outputs": [],
   "source": [
    "Vals_2.1 = c()\n",
    "# your code here\n",
    "temp_c = c(9,10,11,12,13,14,15,16,17)\n",
    "Vals_2.1 = temp_c"
   ]
  },
  {
   "cell_type": "markdown",
   "metadata": {
    "deletable": false,
    "editable": false,
    "nbgrader": {
     "cell_type": "markdown",
     "checksum": "f0d711879a50b04436040bd1e12af0b3",
     "grade": false,
     "grade_id": "cell-b973d113ba5e54ee",
     "locked": true,
     "schema_version": 3,
     "solution": false,
     "task": false
    }
   },
   "source": [
    "#### Part (b)\n",
    "\n",
    "The expression for $P(X = x)$ can be shown to include what known distribution? It will end up being the sum of two of these distributions each multiplied by a different factor. Below are the options listing several distributions. Select the number corresponding to the correct distribution as `Dist_2.2`. (Hint: Think of splitting probability into a probability for player A winning in x games summed with the probability of the disjoint event of player B winning in x games.)\n",
    "\n",
    "1. Geometric Distribution\n",
    "2. Binomial Distribution\n",
    "3. Poisson Distribution\n",
    "4. Exponential Distribution\n",
    "5. Negative Binomial Distribution\n",
    "6. Normal Distribution\n"
   ]
  },
  {
   "cell_type": "code",
   "execution_count": 18,
   "metadata": {
    "deletable": false,
    "nbgrader": {
     "cell_type": "code",
     "checksum": "2b9d7bf4b3caabdff94b933900876f38",
     "grade": false,
     "grade_id": "cell-1ca1fd7309b010eb",
     "locked": false,
     "schema_version": 3,
     "solution": true,
     "task": false
    },
    "vscode": {
     "languageId": "r"
    }
   },
   "outputs": [],
   "source": [
    "Dist_2.2 = \"\"\n",
    "# your code here\n",
    "# This will be a Negative Binomial Distribution because we are repeating a indipendent trials (bernoulli trials) until a total\n",
    "# of 9 games have been won by a player\n",
    "Dist_2.2 = \"5\""
   ]
  },
  {
   "cell_type": "markdown",
   "metadata": {
    "deletable": false,
    "editable": false,
    "nbgrader": {
     "cell_type": "markdown",
     "checksum": "077301099bd4715d7886ec1aaefe0f37",
     "grade": false,
     "grade_id": "cell-0402e9b0b74e7949",
     "locked": true,
     "schema_version": 3,
     "solution": false,
     "task": false
    }
   },
   "source": [
    "#### Part (c) \n",
    "\n",
    "Let $p = 0.5$. Find $P(X = 12)$. Round your answer to four decimal places. Save your answer as `p2.3`."
   ]
  },
  {
   "cell_type": "code",
   "execution_count": 3,
   "metadata": {
    "deletable": false,
    "nbgrader": {
     "cell_type": "code",
     "checksum": "6ca057459174643f1117000d196c3884",
     "grade": false,
     "grade_id": "cell-b4e7fd3c4a54d23f",
     "locked": false,
     "schema_version": 3,
     "solution": true,
     "task": false
    },
    "vscode": {
     "languageId": "r"
    }
   },
   "outputs": [
    {
     "data": {
      "text/html": [
       "0.0806"
      ],
      "text/latex": [
       "0.0806"
      ],
      "text/markdown": [
       "0.0806"
      ],
      "text/plain": [
       "[1] 0.0806"
      ]
     },
     "metadata": {},
     "output_type": "display_data"
    }
   ],
   "source": [
    "p2.3 = NA\n",
    "# your code here\n",
    "# We model the negative binomial rv as follows\n",
    "# P(X=x) ~ P(Y=y) ~ NB(9,0.5) where Y is the number of losses before 9 wins (r=9 and  p=0.5)\n",
    "i = 3 # Number of losses before 9 wins\n",
    "r = 9\n",
    "p = 0.5\n",
    "# Either player A or B can win\n",
    "#dnbinom(x, size, prob, mu, log = FALSE)\n",
    "p_win = dnbinom(i,r,p) # Calculate P(Y=3) for a player\n",
    "p2.3 = round(p_win + p_win, digits=4)\n",
    "p2.3"
   ]
  },
  {
   "cell_type": "markdown",
   "metadata": {
    "deletable": false,
    "editable": false,
    "nbgrader": {
     "cell_type": "markdown",
     "checksum": "b46d879021f3183f4d4839922377bb17",
     "grade": false,
     "grade_id": "cell-ef124729418093fc",
     "locked": true,
     "schema_version": 3,
     "solution": false,
     "task": false
    }
   },
   "source": [
    "### Problem 3"
   ]
  },
  {
   "cell_type": "markdown",
   "metadata": {
    "deletable": false,
    "editable": false,
    "nbgrader": {
     "cell_type": "markdown",
     "checksum": "6a40c19051b03231de9e07549a645140",
     "grade": false,
     "grade_id": "cell-c413dab5f17b1f39",
     "locked": true,
     "schema_version": 3,
     "solution": false,
     "task": false
    }
   },
   "source": [
    "Note the following distribution: X = the leading digit of a randomly selected number from a large accounting ledger. The pmf for this random variable has been found to be defined by:\n",
    "$$ P(X=x) = f(x) = log_{10}\\Big(\\frac{x+1}{x}\\Big), \\ \\ x=1,2,...,9. $$"
   ]
  },
  {
   "cell_type": "markdown",
   "metadata": {
    "deletable": false,
    "editable": false,
    "nbgrader": {
     "cell_type": "markdown",
     "checksum": "4d0293c7218508685cadb6d6fef6328e",
     "grade": false,
     "grade_id": "cell-b26d90e92699fe02",
     "locked": true,
     "schema_version": 3,
     "solution": false,
     "task": false
    }
   },
   "source": [
    "#### Part (a)\n",
    "\n",
    "Find E(X). Round your answer to two decimal places. Save your answer as `e3.1`."
   ]
  },
  {
   "cell_type": "code",
   "execution_count": 31,
   "metadata": {
    "deletable": false,
    "nbgrader": {
     "cell_type": "code",
     "checksum": "db03f0fe4618cba6db65ae024bdb4bfa",
     "grade": false,
     "grade_id": "cell-2e230f950d6c222b",
     "locked": false,
     "schema_version": 3,
     "solution": true,
     "task": false
    },
    "vscode": {
     "languageId": "r"
    }
   },
   "outputs": [
    {
     "data": {
      "text/html": [
       "3.44"
      ],
      "text/latex": [
       "3.44"
      ],
      "text/markdown": [
       "3.44"
      ],
      "text/plain": [
       "[1] 3.44"
      ]
     },
     "metadata": {},
     "output_type": "display_data"
    }
   ],
   "source": [
    "e3.1 = NA\n",
    "# your code here\n",
    "# E(x) = Sum(x * f(x)) from x=1->9\n",
    "x = c(1:9)\n",
    "e3.1 = 0\n",
    "for(i in x) {\n",
    "    s = i * log((i+1)/i,10) # base 1\n",
    "    e3.1 = e3.1 + s\n",
    "}\n",
    "e3.1 = round(e3.1,digits=2)\n",
    "e3.1"
   ]
  },
  {
   "cell_type": "markdown",
   "metadata": {
    "deletable": false,
    "editable": false,
    "nbgrader": {
     "cell_type": "markdown",
     "checksum": "11fa23592268a10d28f46f474aef3c5d",
     "grade": false,
     "grade_id": "cell-b0bf15f72d1e3fe6",
     "locked": true,
     "schema_version": 3,
     "solution": false,
     "task": false
    }
   },
   "source": [
    "### Problem 4\n",
    "\n",
    "Suppose we have an unfair coin with a probability of $0.6$ of obtaining a heads on any given toss. As is typical for coin toss problems, assume each coin toss is independent."
   ]
  },
  {
   "cell_type": "markdown",
   "metadata": {
    "deletable": false,
    "editable": false,
    "nbgrader": {
     "cell_type": "markdown",
     "checksum": "5bf89b5c3f9d30f1e5016159cb2ae1fb",
     "grade": false,
     "grade_id": "cell-dec05591f7507b3b",
     "locked": true,
     "schema_version": 3,
     "solution": false,
     "task": false
    }
   },
   "source": [
    "#### Part (a) \n",
    "\n",
    "What is the expected number of flips **before** we get a heads? Round your answer to two decimal places. Save your answer as `e4.1`."
   ]
  },
  {
   "cell_type": "code",
   "execution_count": 41,
   "metadata": {
    "deletable": false,
    "nbgrader": {
     "cell_type": "code",
     "checksum": "06df6f9266d239b7bff8f541f5c1bd11",
     "grade": false,
     "grade_id": "cell-2af05b11131084f1",
     "locked": false,
     "schema_version": 3,
     "solution": true,
     "task": false
    },
    "vscode": {
     "languageId": "r"
    }
   },
   "outputs": [
    {
     "data": {
      "text/html": [
       "0.67"
      ],
      "text/latex": [
       "0.67"
      ],
      "text/markdown": [
       "0.67"
      ],
      "text/plain": [
       "[1] 0.67"
      ]
     },
     "metadata": {},
     "output_type": "display_data"
    }
   ],
   "source": [
    "e4.1 = NA\n",
    "# your code here\n",
    "# This is a Geometric r.v.\n",
    "# P(X = i) = p(1 − p)^i−1 for i = 1, 2, 3, ...\n",
    "# E[X] = 1/p for Geometric random variables\n",
    "p = 0.6\n",
    "e_p = 1/p # But this includes the last flip too (the one results with heads)\n",
    "e4.1 = round(e_p - 1,digits=2) # Subtract last flip\n",
    "e4.1"
   ]
  },
  {
   "cell_type": "markdown",
   "metadata": {
    "deletable": false,
    "editable": false,
    "nbgrader": {
     "cell_type": "markdown",
     "checksum": "974409a322bc3f38dabffcc082368469",
     "grade": false,
     "grade_id": "cell-0c419f98672865e0",
     "locked": true,
     "schema_version": 3,
     "solution": false,
     "task": false
    }
   },
   "source": [
    "#### Part (b) \n",
    "How many tails do you expect to see before getting three heads? Save your answer as `e4.2`. \n",
    "\n",
    "For example, imagine you see the third heads on the tenth trial. This would mean you have seen 2 heads in the first 9 trials followed by a heads on the tenth. Then your answer would be observing $7$ tails. Generalize this to the $i^{th}$ trial."
   ]
  },
  {
   "cell_type": "code",
   "execution_count": 37,
   "metadata": {
    "deletable": false,
    "nbgrader": {
     "cell_type": "code",
     "checksum": "1794edf8303e61461e255503cd5a14b5",
     "grade": false,
     "grade_id": "cell-65ac4eb17651c0a1",
     "locked": false,
     "schema_version": 3,
     "solution": true,
     "task": false
    },
    "vscode": {
     "languageId": "r"
    }
   },
   "outputs": [
    {
     "data": {
      "text/html": [
       "2"
      ],
      "text/latex": [
       "2"
      ],
      "text/markdown": [
       "2"
      ],
      "text/plain": [
       "[1] 2"
      ]
     },
     "metadata": {},
     "output_type": "display_data"
    }
   ],
   "source": [
    "e4.2 = NA\n",
    "# your code here\n",
    "# This is Negative Binomial r.v.\n",
    "# We can model this as P(X=i) ~ NB(3,0.6) where r=3, p=0.6 and X is the number of tails before we get 3 heads\n",
    "# E(x) = r*(1-p)/p\n",
    "r = 3\n",
    "e4.2 = r*(1-p)/p\n",
    "e4.2"
   ]
  }
 ],
 "metadata": {
  "kernelspec": {
   "display_name": "R",
   "language": "R",
   "name": "ir"
  },
  "language_info": {
   "codemirror_mode": "r",
   "file_extension": ".r",
   "mimetype": "text/x-r-source",
   "name": "R",
   "pygments_lexer": "r",
   "version": "3.6.3"
  }
 },
 "nbformat": 4,
 "nbformat_minor": 4
}
