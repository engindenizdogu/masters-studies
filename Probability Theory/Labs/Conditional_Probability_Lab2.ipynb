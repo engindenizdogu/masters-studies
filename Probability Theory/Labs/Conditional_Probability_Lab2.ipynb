{
 "cells": [
  {
   "cell_type": "markdown",
   "metadata": {},
   "source": [
    "Simulation is a great tool for probability problems even when you are trying to compute exact results since it can help you to check your work!"
   ]
  },
  {
   "cell_type": "markdown",
   "metadata": {},
   "source": [
    "# Problem 1"
   ]
  },
  {
   "cell_type": "markdown",
   "metadata": {},
   "source": [
    "Suppose you roll a fair six-sided die two times. Let $A$ be the event \"the sum of the throws equals 5\" and $B$ be the event \"at least one of the throws is a $4$\"."
   ]
  },
  {
   "cell_type": "markdown",
   "metadata": {},
   "source": [
    "**Part a)** \n",
    "\n",
    "By hand, solve for the probability that the sum of the throws equals 5, given that at least one of the throws is a 4. That is, solve $P(A|B)$."
   ]
  },
  {
   "cell_type": "code",
   "execution_count": 5,
   "metadata": {},
   "outputs": [
    {
     "data": {
      "text/html": [
       "0.182"
      ],
      "text/latex": [
       "0.182"
      ],
      "text/markdown": [
       "0.182"
      ],
      "text/plain": [
       "[1] 0.182"
      ]
     },
     "metadata": {},
     "output_type": "display_data"
    }
   ],
   "source": [
    "# p(A) = P({14,23,32,41})\n",
    "c = 6*6 # cardinality\n",
    "pa = 4 / c\n",
    "\n",
    "# P(B) = P({41,42,43,44,45,46,14,24,34,54,64})\n",
    "pb = 11 / c\n",
    "\n",
    "# P(AnB) = P({14,41})\n",
    "panb = 2 / c\n",
    "\n",
    "# P(A|B) = P(AnB) / P(B)\n",
    "p_a_given_b = panb / pb\n",
    "round(p_a_given_b, digits=3) # 0.182"
   ]
  },
  {
   "cell_type": "markdown",
   "metadata": {},
   "source": [
    "**Part b)**\n",
    "\n",
    "In the next cell, write a simple simulation to confirm your result. Make sure you run your simulation enough times to be confident in your result. We will get you started but <b>feel free to delete the provided code to use your own approach</b>.\n",
    "\n",
    "Hint: Think about the definition of conditional probability. "
   ]
  },
  {
   "cell_type": "code",
   "execution_count": 36,
   "metadata": {},
   "outputs": [
    {
     "data": {
      "text/html": [
       "0.182858190004974"
      ],
      "text/latex": [
       "0.182858190004974"
      ],
      "text/markdown": [
       "0.182858190004974"
      ],
      "text/plain": [
       "[1] 0.1828582"
      ]
     },
     "metadata": {},
     "output_type": "display_data"
    }
   ],
   "source": [
    "# Your code here\n",
    "\n",
    "# Simulate values\n",
    "num_rolls = 1000000\n",
    "roll1 = sample(1:6,num_rolls,replace=TRUE)\n",
    "roll2 = sample(1:6,num_rolls,replace=TRUE)\n",
    "\n",
    "# Put the two columns together (\"cbind\" stands for \"column bind\")\n",
    "mydata = cbind(roll1,roll2)\n",
    "\n",
    "# Change from a matrix to a data frame so that we can access elements \n",
    "# using the names \"roll1\" and \"roll2\"\n",
    "mydata = as.data.frame(mydata)\n",
    "\n",
    "# Here is a subset of the data frame that you might want to look at.\n",
    "# Recall that the squre brackets can be read as \"such that\".\n",
    "# mydata[mydata$roll1+mydata$roll2==5,]\n",
    "panb = nrow(mydata[(mydata$roll1==1 & mydata$roll2==4) | (mydata$roll1==4 & mydata$roll2==1),])\n",
    "pb = nrow(mydata[mydata$roll1==4 | mydata$roll2==4,])\n",
    "\n",
    "# As we increase \"num_rolls\" the probability converges to the value we found in the previous cell\n",
    "panb / pb"
   ]
  },
  {
   "cell_type": "markdown",
   "metadata": {},
   "source": [
    "# Problem 2\n",
    "\n",
    "Suppose you have two bags of marbles that are in a box. Bag 1 contains 7 white marbles, 6 black marbles, and 3 gold marbles. Bag 2 contains 4 white marbles, 5 black marbles, and 15 gold marbles. You will reach into the box to pull out a bag. Suppose that, due to the size and shapes of the bags, the probability of grabbing Bag 1 from the box is twice the probability of grabbing Bag 2.\n",
    "\n",
    "If you close your eyes, grab a bag from the box, and then grab a marble from that bag, what is the probability that it is gold?"
   ]
  },
  {
   "cell_type": "markdown",
   "metadata": {},
   "source": [
    "**Part a)** \n",
    "\n",
    "Solve this problem by hand. This should give us a theoretical value for pulling a gold marble."
   ]
  },
  {
   "cell_type": "code",
   "execution_count": 10,
   "metadata": {},
   "outputs": [
    {
     "data": {
      "text/html": [
       "0.333"
      ],
      "text/latex": [
       "0.333"
      ],
      "text/markdown": [
       "0.333"
      ],
      "text/plain": [
       "[1] 0.333"
      ]
     },
     "metadata": {},
     "output_type": "display_data"
    }
   ],
   "source": [
    "#Bag 1: 7 white, 6 black, 3 gold\n",
    "#Bag 2: 4 white, 5 black, 15 gold\n",
    "\n",
    "# We can represent these events as a tree\n",
    "#                p(gold)=3/16 -> p(bag1 n gold)\n",
    "#               /\n",
    "#   p(bag1)=2/3\n",
    "#  /            \\ not gold...\n",
    "#\n",
    "#                p(gold)=15/24 -> p(bag2 n gold)\n",
    "#  \\            / \n",
    "#   p(bag2)=1/3\n",
    "#               \\ not gold...\n",
    "\n",
    "\n",
    "p_bag1 = 2/3\n",
    "p_bag2 = 1/3\n",
    "p_b1ng = p_bag1 * (3/16)\n",
    "p_b2ng = p_bag2 * (15/24)\n",
    "\n",
    "p = round(p_b1ng+p_b2ng, digits=3)\n",
    "p"
   ]
  },
  {
   "cell_type": "markdown",
   "metadata": {},
   "source": [
    "**Part b)**\n",
    "\n",
    "Create a simulation to estimate the probability of pulling a gold marble. Make sure to run the simulation enough times to be confident in your final result!\n",
    "\n",
    "Hint: You can sample one marble from Bag 1 with this line of code\n",
    "\n",
    "<code>sample(c(\"white\",\"black\",\"gold\"),1,prob=c(7/16,6/16,3/16))</code>\n",
    "\n",
    "though you mind find it easier to label white marbles as \"1\", black marbles as \"2\", and gold marbles as \"3\" rather than having to work with strings."
   ]
  },
  {
   "cell_type": "code",
   "execution_count": 55,
   "metadata": {},
   "outputs": [
    {
     "data": {
      "text/html": [
       "0.3381"
      ],
      "text/latex": [
       "0.3381"
      ],
      "text/markdown": [
       "0.3381"
      ],
      "text/plain": [
       "[1] 0.3381"
      ]
     },
     "metadata": {},
     "output_type": "display_data"
    }
   ],
   "source": [
    "# Your code here\n",
    "sample_size = 10000\n",
    "results = rep(NA, sample_size)\n",
    "\n",
    "for(i in 1:sample_size){\n",
    "    bag = sample(c(1,2),1,prob=c(2/3,1/3))\n",
    "    if(bag == 1){ #bag 1 with p=2/3\n",
    "        results[i] = sample(c(\"white\",\"black\",\"gold\"),1,prob=c(7/16,6/16,3/16)) # bag 1\n",
    "    } else { #bag 2 with p=1/3\n",
    "        results[i] = sample(c(\"white\",\"black\",\"gold\"),1,prob=c(4/25,5/25,15/25)) # bag 2\n",
    "    }\n",
    "}\n",
    "\n",
    "results_table = table(results)\n",
    "as.numeric(results_table[\"gold\"]) / sample_size"
   ]
  }
 ],
 "metadata": {
  "kernelspec": {
   "display_name": "R",
   "language": "R",
   "name": "ir"
  }
 },
 "nbformat": 4,
 "nbformat_minor": 4
}
