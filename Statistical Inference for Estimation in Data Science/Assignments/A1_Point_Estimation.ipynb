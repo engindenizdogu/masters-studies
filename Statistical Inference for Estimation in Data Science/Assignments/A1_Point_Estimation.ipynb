{
 "cells": [
  {
   "cell_type": "markdown",
   "metadata": {
    "deletable": false,
    "editable": false,
    "nbgrader": {
     "cell_type": "markdown",
     "checksum": "ba5274527cd84be1f303da62563f4e09",
     "grade": false,
     "grade_id": "cell-cfa98577f413d996",
     "locked": true,
     "schema_version": 3,
     "solution": false,
     "task": false
    }
   },
   "source": [
    "# Summary Assignment 1\n",
    "<blockquote>This assignment will be autograded. To avoid autograder errors, please do not add or delete any cells. Also, run all cells even if they are hidden and not requiring any input from you.</blockquote>"
   ]
  },
  {
   "cell_type": "code",
   "execution_count": 1,
   "metadata": {
    "deletable": false,
    "editable": false,
    "nbgrader": {
     "cell_type": "code",
     "checksum": "a7e543e438ae35de9e51cb1d2556db56",
     "grade": false,
     "grade_id": "cell-81d3dcb436100e63",
     "locked": true,
     "schema_version": 3,
     "solution": false,
     "task": false
    },
    "vscode": {
     "languageId": "r"
    }
   },
   "outputs": [],
   "source": [
    "# Load Necesary Libraries for Autograding\n",
    "library(testthat)"
   ]
  },
  {
   "cell_type": "markdown",
   "metadata": {
    "deletable": false,
    "editable": false,
    "nbgrader": {
     "cell_type": "markdown",
     "checksum": "890c09ef80d9834c0bd9fc2178cd310c",
     "grade": false,
     "grade_id": "cell-b660d6dd6140e9d9",
     "locked": true,
     "schema_version": 3,
     "solution": false,
     "task": false
    }
   },
   "source": [
    "# Problem 1\n",
    "\n",
    "Let the joint PDF $f(X,Y)$ be represented by the following table of values:\n",
    "\n",
    "\n",
    "|  | y=-1| y=0 | y=1 | y=2 |\n",
    "| :--- | :----: | :---: | :---: | ---: |\n",
    "| $x=2$ | 0.1 | 0 | 0.15 | 0 |\n",
    "| $x=3$ | 0.1 | 0.1 | 0.05 | 0.05 |\n",
    "| $x=4$ | 0 | 0.05 | 0.15 | 0.25 |"
   ]
  },
  {
   "cell_type": "markdown",
   "metadata": {
    "deletable": false,
    "editable": false,
    "nbgrader": {
     "cell_type": "markdown",
     "checksum": "80e03aaad89caad9d7798056fddfa5ec",
     "grade": false,
     "grade_id": "cell-25b99e5d010c8f12",
     "locked": true,
     "schema_version": 3,
     "solution": false,
     "task": false
    }
   },
   "source": [
    " **Part A)** Find $E[X]$ and $E[Y]$. Save your answers as `p1.a.ex` and `p1.a.ey`."
   ]
  },
  {
   "cell_type": "code",
   "execution_count": 22,
   "metadata": {
    "deletable": false,
    "nbgrader": {
     "cell_type": "code",
     "checksum": "ebff4591302576a2f85832c578415fc8",
     "grade": false,
     "grade_id": "cell-c01546f6e409fcc4",
     "locked": false,
     "schema_version": 3,
     "solution": true,
     "task": false
    },
    "vscode": {
     "languageId": "r"
    }
   },
   "outputs": [],
   "source": [
    "p1.a.ex = NA\n",
    "p1.a.ey = NA\n",
    "\n",
    "# your code here\n",
    "# P(x=2) = 0.25\n",
    "# P(x=3) = 0.30\n",
    "# P(x=4) = 0.45\n",
    "# P(y=-1) = 0.20\n",
    "# P(y=0) = 0.15\n",
    "# P(y=1) = 0.35\n",
    "# P(y=2) = 0.30\n",
    "\n",
    "p1.a.ex = (2*0.25) + (3*0.30) + (4*0.45)\n",
    "p1.a.ey = (-1*0.20) + (0*0.15) + (1*0.35) + (2*0.30)"
   ]
  },
  {
   "cell_type": "markdown",
   "metadata": {
    "deletable": false,
    "editable": false,
    "nbgrader": {
     "cell_type": "markdown",
     "checksum": "82b3dd3ffafb50c8659f484dae480716",
     "grade": false,
     "grade_id": "cell-7a0c471a95ce469b",
     "locked": true,
     "schema_version": 3,
     "solution": false,
     "task": false
    }
   },
   "source": [
    "**Part B)** Find $E[XY]$. Save your answer as `p1.b.exy`."
   ]
  },
  {
   "cell_type": "code",
   "execution_count": 24,
   "metadata": {
    "deletable": false,
    "nbgrader": {
     "cell_type": "code",
     "checksum": "41d0ffd93d95eef62309e2114fb86b98",
     "grade": false,
     "grade_id": "cell-5c78993b7207eb33",
     "locked": false,
     "schema_version": 3,
     "solution": true,
     "task": false
    },
    "vscode": {
     "languageId": "r"
    }
   },
   "outputs": [],
   "source": [
    "p1.b.exy = NA\n",
    "# your code here\n",
    "\n",
    "f_xy = matrix(c(0.1, 0, 0.15, 0, \n",
    "                0.1, 0.1, 0.05, 0.05, \n",
    "                0, 0.05, 0.15, 0.25),\n",
    "              nrow = 3,   \n",
    "              ncol = 4,         \n",
    "              byrow = TRUE  \n",
    "             )\n",
    "\n",
    "rows = c(\"2\", \"3\", \"4\")\n",
    "cols = c(\"-1\", \"0\", \"1\", \"2\")\n",
    "rownames(f_xy) = rows\n",
    "colnames(f_xy) = cols\n",
    "\n",
    "exy = 0\n",
    "for (x in rows) {\n",
    "    for (y in cols) {\n",
    "        exy = exy + (strtoi(x) * strtoi(y) * f_xy[x,y])\n",
    "    }\n",
    "}\n",
    "\n",
    "p1.b.exy = exy"
   ]
  },
  {
   "cell_type": "markdown",
   "metadata": {
    "deletable": false,
    "editable": false,
    "nbgrader": {
     "cell_type": "markdown",
     "checksum": "c2ac22a509d0e17c952a433fe501bef6",
     "grade": false,
     "grade_id": "cell-6e86d541a3c34731",
     "locked": true,
     "schema_version": 3,
     "solution": false,
     "task": false
    }
   },
   "source": [
    "**Part C)** Are $X$ and $Y$ independent? Answer the boolean value `TRUE` if they are independent and `FALSE` if they are not independent. Save your answer as `p1.c`."
   ]
  },
  {
   "cell_type": "code",
   "execution_count": 28,
   "metadata": {
    "deletable": false,
    "nbgrader": {
     "cell_type": "code",
     "checksum": "fe14614bf3cce08e14aed7f4b4a25248",
     "grade": false,
     "grade_id": "cell-7adb1551e02e131a",
     "locked": false,
     "schema_version": 3,
     "solution": true,
     "task": false
    },
    "vscode": {
     "languageId": "r"
    }
   },
   "outputs": [],
   "source": [
    "p1.c = NA\n",
    "\n",
    "# your code here\n",
    "#p1.b.exy != p1.a.ex * p1.a.ey\n",
    "p1.c = FALSE"
   ]
  },
  {
   "cell_type": "markdown",
   "metadata": {
    "deletable": false,
    "editable": false,
    "nbgrader": {
     "cell_type": "markdown",
     "checksum": "033c6243a4208ef079003a90c9026c15",
     "grade": false,
     "grade_id": "cell-da74f105361f6d65",
     "locked": true,
     "schema_version": 3,
     "solution": false,
     "task": false
    }
   },
   "source": [
    "**Part D)** Define $U=X+Y$. What is $P(U \\ge 4)$? Save your answer as `p1.d`."
   ]
  },
  {
   "cell_type": "code",
   "execution_count": 36,
   "metadata": {
    "deletable": false,
    "nbgrader": {
     "cell_type": "code",
     "checksum": "fff08d5b3bcb2bfcd459b229f6cc733f",
     "grade": false,
     "grade_id": "cell-3fe9def7644611b9",
     "locked": false,
     "schema_version": 3,
     "solution": true,
     "task": false
    },
    "vscode": {
     "languageId": "r"
    }
   },
   "outputs": [],
   "source": [
    "p1.d = NA\n",
    "# your code here\n",
    "u = 0\n",
    "for (x in rows) {\n",
    "    for (y in cols) {\n",
    "        if (strtoi(x) + strtoi(y) >= 4){ \n",
    "            u = u + f_xy[x,y]\n",
    "        }\n",
    "    }\n",
    "}\n",
    "\n",
    "p1.d = u"
   ]
  },
  {
   "cell_type": "markdown",
   "metadata": {
    "deletable": false,
    "editable": false,
    "nbgrader": {
     "cell_type": "markdown",
     "checksum": "47790542d3b9dabce301b87b42b4cdb7",
     "grade": false,
     "grade_id": "cell-4a7d1bd03e9cf1ad",
     "locked": true,
     "schema_version": 3,
     "solution": false,
     "task": false
    }
   },
   "source": [
    "# Problem 2\n",
    "\n",
    "You work at the front desk of a library, and have to manage the printer. Sadly, the printer is old, and regularly jams. You know that your boss will only replace the printer if there is hard evidence, so you decide to record the number of times the printer was able to print successfully **before** it jammed. These values are recorded in `prints` below. Assume that these values are independent and identically distributed."
   ]
  },
  {
   "cell_type": "code",
   "execution_count": 38,
   "metadata": {
    "deletable": false,
    "editable": false,
    "nbgrader": {
     "cell_type": "code",
     "checksum": "33d0a125ec7a7a3dad34cd46c803bf69",
     "grade": false,
     "grade_id": "cell-2b296ffaf48368cd",
     "locked": true,
     "schema_version": 3,
     "solution": false,
     "task": false
    },
    "vscode": {
     "languageId": "r"
    }
   },
   "outputs": [],
   "source": [
    "prints = c(12, 9, 3, 17, 5, 5, 3, 7, 0, 5, 17, 6, 9, 1, 13)"
   ]
  },
  {
   "cell_type": "markdown",
   "metadata": {
    "deletable": false,
    "editable": false,
    "nbgrader": {
     "cell_type": "markdown",
     "checksum": "9b72c0427e5c13d5b2cdc1d49a7035b5",
     "grade": false,
     "grade_id": "cell-8e76f8ad9c8d37fb",
     "locked": true,
     "schema_version": 3,
     "solution": false,
     "task": false
    }
   },
   "source": [
    "**Part A)** Let $X$ be a random variable for the number of times the printer was able to print before it jammed. Then $X$ follows a Geometric distribution with some unknown probability $p$, where $X_i \\in {0, 1, 2, \\dots}$. We want to estimate $p$, that is the probability that the printer fails. Using the method of moments, what is the estimate $\\hat{p}$?\n",
    "\n",
    "1. $\\dfrac{1}{\\bar{X}}$\n",
    "2. $\\dfrac{1}{\\bar{X}+1}$\n",
    "3. $\\dfrac{\\bar{X}}{\\bar{X}+1}$\n",
    "4. $\\dfrac{\\bar{X}}{1-\\bar{X}}$\n",
    "5. None of the above.\n",
    "\n",
    "Save the NUMBER corresponding to the correct answer into the variable `p2.a`."
   ]
  },
  {
   "cell_type": "code",
   "execution_count": 39,
   "metadata": {
    "deletable": false,
    "nbgrader": {
     "cell_type": "code",
     "checksum": "459914beff70b21439aea04034f5384d",
     "grade": false,
     "grade_id": "cell-efc73ab51f772fb8",
     "locked": false,
     "schema_version": 3,
     "solution": true,
     "task": false
    },
    "vscode": {
     "languageId": "r"
    }
   },
   "outputs": [],
   "source": [
    "p2.a = NA\n",
    "\n",
    "# your code here\n",
    "p2.a = 2"
   ]
  },
  {
   "cell_type": "markdown",
   "metadata": {
    "deletable": false,
    "editable": false,
    "nbgrader": {
     "cell_type": "markdown",
     "checksum": "f0bbe91bb376a059491bf55e13293b25",
     "grade": false,
     "grade_id": "cell-9183ec2029a4ec6f",
     "locked": true,
     "schema_version": 3,
     "solution": false,
     "task": false
    }
   },
   "source": [
    "**Part B)** Given your solution to **Part A**, calculate the estimated probability for the recorded data. Save this value into `p2.b`. (Include at least 2 decimal places.)"
   ]
  },
  {
   "cell_type": "code",
   "execution_count": 46,
   "metadata": {
    "deletable": false,
    "nbgrader": {
     "cell_type": "code",
     "checksum": "20cdb31d2ecac82d6cf17f697c0b4f71",
     "grade": false,
     "grade_id": "cell-0219e0276879aa9c",
     "locked": false,
     "schema_version": 3,
     "solution": true,
     "task": false
    },
    "vscode": {
     "languageId": "r"
    }
   },
   "outputs": [],
   "source": [
    "p2.b = NA\n",
    "\n",
    "# your code here\n",
    "x_bar = sum(prints) / length(prints)\n",
    "p2.b = 1 / (x_bar + 1)"
   ]
  },
  {
   "cell_type": "markdown",
   "metadata": {
    "deletable": false,
    "editable": false,
    "nbgrader": {
     "cell_type": "markdown",
     "checksum": "7092ac104573c69468a859362696133f",
     "grade": false,
     "grade_id": "cell-a0c7c7cdf5321385",
     "locked": true,
     "schema_version": 3,
     "solution": false,
     "task": false
    }
   },
   "source": [
    "**Part C)** Let's try to visualize how well our estimator actually fits the data. \n",
    "\n",
    "To create a histogram of the \"prints\" data, one only needs to type <code>hist(prints)</code>. In order to store the results in a way the autograder can interpret, we need to store this in a variable like this: <code>my_hist_var=hist(prints)</code>\n",
    "\n",
    "Recall that the y-axis of a histogram can be scaled in many different ways.\n",
    "In order to make it so that the total area of each bar is the proportion of observations observed in the corresponding bin, we need to add \"prob=T\" (probability equals true) to the histogram command. This is called a \"density histogram\".\n",
    "\n",
    "Finally, to control the way the bins break on the x-axis, we need to give a sequence of break values. As an example unrelated to this exercise, we might type <code>my_hist_var = hist(mydata,prob=T,breaks=seq(1,8,1))</code> to put breaks at 1,2, ..., 8.\n",
    "\n",
    "For this exercise,  create a density histogram of the `prints` values and store it in variable `p2.c.hist`. Center the bars on the integers 0 through 17 by making breaks at -0.5, 0.5, 1.5, ..., 17.5. Add the curve of a geometric distribution, with the probability of what you estimated in **Part B**, ontop of your histogram. Think about how well this curve approximates the distribution."
   ]
  },
  {
   "cell_type": "code",
   "execution_count": 52,
   "metadata": {
    "deletable": false,
    "nbgrader": {
     "cell_type": "code",
     "checksum": "4268f9975bff034f4cbe5528391da063",
     "grade": false,
     "grade_id": "cell-bea143bf92a0563d",
     "locked": false,
     "schema_version": 3,
     "solution": true,
     "task": false
    },
    "vscode": {
     "languageId": "r"
    }
   },
   "outputs": [
    {
     "data": {
      "image/png": "[encoded data removed]",
      "text/plain": [
       "Plot with title “Histogram of prints”"
      ]
     },
     "metadata": {
      "image/png": {
       "height": 420,
       "width": 420
      },
      "text/plain": {
       "height": 420,
       "width": 420
      }
     },
     "output_type": "display_data"
    }
   ],
   "source": [
    "p2.c.hist = NA\n",
    "\n",
    "# your code here\n",
    "p2.c.hist=hist(prints,prob=TRUE,breaks=seq(-0.5,17.5,0.5))\n",
    "x<-seq(-0.5,17.5,0.5)\n",
    "fx<-p2.b*(1-p2.b)^x\n",
    "lines(x,fx)"
   ]
  },
  {
   "cell_type": "markdown",
   "metadata": {
    "deletable": false,
    "editable": false,
    "nbgrader": {
     "cell_type": "markdown",
     "checksum": "8fd2eef04e5b7865d7792ad2b4dbbb13",
     "grade": false,
     "grade_id": "cell-d0290b80b6b155dc",
     "locked": true,
     "schema_version": 3,
     "solution": false,
     "task": false
    }
   },
   "source": [
    "**Part D)** what is the *true* underlying probability of this distribution? Save your answer as `p2.d` and round your answer to two decimal places. If it's not possible to answer this question, save your answer as the string `\"not possible\"`."
   ]
  },
  {
   "cell_type": "code",
   "execution_count": 54,
   "metadata": {
    "deletable": false,
    "nbgrader": {
     "cell_type": "code",
     "checksum": "ebc5453322de8a29dc9f4dcb3cee3019",
     "grade": false,
     "grade_id": "cell-ecb0de26dd3fad02",
     "locked": false,
     "schema_version": 3,
     "solution": true,
     "task": false
    },
    "vscode": {
     "languageId": "r"
    }
   },
   "outputs": [],
   "source": [
    "p2.d = NA\n",
    "\n",
    "# your code here\n",
    "p2.d = \"not possible\""
   ]
  }
 ],
 "metadata": {
  "kernelspec": {
   "display_name": "R",
   "language": "R",
   "name": "ir"
  },
  "language_info": {
   "codemirror_mode": "r",
   "file_extension": ".r",
   "mimetype": "text/x-r-source",
   "name": "R",
   "pygments_lexer": "r",
   "version": "3.6.3"
  }
 },
 "nbformat": 4,
 "nbformat_minor": 4
}
