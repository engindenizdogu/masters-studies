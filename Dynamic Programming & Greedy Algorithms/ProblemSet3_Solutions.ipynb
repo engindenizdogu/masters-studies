{
 "cells": [
  {
   "cell_type": "markdown",
   "metadata": {
    "deletable": false,
    "editable": false,
    "nbgrader": {
     "cell_type": "markdown",
     "checksum": "25c9d407350b6e1605b305501df99bb5",
     "grade": false,
     "grade_id": "cell-44e5e9524e1b7eae",
     "locked": true,
     "schema_version": 3,
     "solution": false,
     "task": false
    }
   },
   "source": [
    "# Assigment 3: Greedy Algorithms\n",
    "\n",
    "In this assignment, we will explore greedy algorithms for makespan scheduling. We will see how a greedy algorithm can sometimes provide a solution that is guaranteed to be within some constant factor of the best possible solution. Please fill out the missing answers and the missing code below. Note that the coding part of this assignment should be simple given where we are in this class but the ungraded answers will hopefully be most instructive for this assignment.\n",
    "\n",
    "See https://jeffe.cs.illinois.edu/teaching/algorithms/notes/J-approx.pdf section J1 for more details.\n",
    " \n",
    "  \n",
    "## Problem 1: Makespan Scheduling.\n",
    "\n",
    "Let us consider $n$ jobs that take times $T_1, \\ldots, T_n$ to complete where each $T_i > 0$. We have $m \\geq 2$ processors to process these jobs. Our goal is to assign these jobs to the processor.\n",
    "\n",
    "An assignment is modeled as an array $A: [A_1, \\ldots, A_n]$ wherein each $A_i$ represents the number of the processor to which job $i$ is assigned. Eg., $A_3 = 4$ means that job number $3$ is assigned to processor $4$.\n",
    "Therefore each $A_i \\in \\{ 1, \\ldots, m \\}$.\n",
    "\n",
    "Once the assignment is complete, each processor runs the jobs assigned to it under some order. \n",
    "\n",
    "### Question 1\n",
    "\n",
    "Let $M_j$ be the total time taken by some processor $j$ to complete all the jobs assigned to it.\n",
    "\n",
    "Write down an expression for $M_j$? We will not grade your answer but you may be able to check against the provided solutions."
   ]
  },
  {
   "cell_type": "raw",
   "metadata": {
    "deletable": false,
    "nbgrader": {
     "cell_type": "markdown",
     "checksum": "c69c3df30c035bd3c0ecf2843c8a48a4",
     "grade": true,
     "grade_id": "cell-f5e954c40eabff71",
     "locked": false,
     "points": 0,
     "schema_version": 3,
     "solution": true,
     "task": false
    }
   },
   "source": [
    "For all Ai = m, sum Ti values"
   ]
  },
  {
   "cell_type": "markdown",
   "metadata": {
    "deletable": false,
    "editable": false,
    "nbgrader": {
     "cell_type": "markdown",
     "checksum": "07c74011d419f56ec6448b10f72f0d8e",
     "grade": false,
     "grade_id": "cell-290a55dcb068dd1c",
     "locked": true,
     "schema_version": 3,
     "solution": false,
     "task": false
    }
   },
   "source": [
    "### MakeSpan of an Assignment (Def)\n",
    "$$\\newcommand\\mspan{\\sf MakeSpan }$$\n",
    "\n",
    "The makespan of an assignment $A$ denoted $\\mspan(A)$ is the maximum among the total times taken by each processor. Formally, \n",
    "\n",
    "$$\\mspan(A) = \\max_{j=1}^m M_j$$\n",
    "\n",
    "The makespan of an assignment denotes the total time taken to complete all the jobs with the processors running in parallel since it measures the time taken by the processor which takes the longest to complete all its assigned tasks.\n",
    "\n",
    "#### Example\n",
    "\n",
    "Consider jobs with times $[T_1: 2,\\ T_2: 2,\\ T_3: 2,\\ T_4: 2,\\ T_5: 2,\\ T_6: 2,\\  T_7: 3]$ and $m = 3$ processors.\n",
    "\n",
    "Consider the assignment $A: [A_1: 1,\\ A_2: 1,\\ A_3: 2,\\ A_4: 2,\\ A_5: 3,\\ A_6: 3,\\ A_7: 2 ]$.\n",
    "\n",
    "### Question 2 \n",
    "\n",
    "Write down the total times taken by each processor under the given assignment. What is the makespan of this assignment? Is there a better assignment of jobs to processor that can reduce the makespan? If so what is it?\n"
   ]
  },
  {
   "cell_type": "raw",
   "metadata": {
    "deletable": false,
    "nbgrader": {
     "cell_type": "markdown",
     "checksum": "11482e6ee6c98d63869faf39464a58cf",
     "grade": true,
     "grade_id": "cell-7e6e33a7080a1dc7",
     "locked": false,
     "points": 0,
     "schema_version": 3,
     "solution": true,
     "task": false
    }
   },
   "source": [
    "P1: T1 + T2 = 2 + 2 = 4\n",
    "P2: T3 + T4 + T7 = 2 + 2 + 3 = 7\n",
    "P3: T5 + T6 = 2 + 2 = 4\n",
    "Makespan of current selection = 7\n",
    "\n",
    "A better assignment would be:\n",
    "P1: T1 + T2 + T3 = 2 + 2 + 2 = 6\n",
    "P2: T4 + T5 = 2 + 2 = 4\n",
    "P3: T6 + T7 = 2 + 3 = 5\n",
    "Which would make the makespan 6"
   ]
  },
  {
   "cell_type": "markdown",
   "metadata": {
    "deletable": false,
    "editable": false,
    "nbgrader": {
     "cell_type": "markdown",
     "checksum": "bd6cbc44928db23c77bb46d74ad7caad",
     "grade": false,
     "grade_id": "cell-c82613c900852df3",
     "locked": true,
     "schema_version": 3,
     "solution": false,
     "task": false
    }
   },
   "source": [
    "## Problem A: Calculate Makespan of an Assignment"
   ]
  },
  {
   "cell_type": "code",
   "execution_count": 8,
   "metadata": {
    "deletable": false,
    "nbgrader": {
     "cell_type": "code",
     "checksum": "d1dcfd2d929657063fd5b72a69496906",
     "grade": false,
     "grade_id": "cell-ef20fed19686736d",
     "locked": false,
     "schema_version": 3,
     "solution": true,
     "task": false
    }
   },
   "outputs": [],
   "source": [
    "def compute_makespan(times, m, assign):\n",
    "    # times is an array of job times of size n\n",
    "    # m is the number of processors\n",
    "    # assign is an array of size n whose entries are between 0 to m-1 \n",
    "    # indicating the processor number for\n",
    "    # the corresponding job.\n",
    "    # Return: makespan of the assignment\n",
    "    # your code here\n",
    "    ms = [0] * m # Makespan array for processors\n",
    "    for c, a in enumerate(assign):\n",
    "        ms[a] = ms[a] + times[c]\n",
    "        \n",
    "    return max(ms)"
   ]
  },
  {
   "cell_type": "code",
   "execution_count": 11,
   "metadata": {
    "deletable": false,
    "editable": false,
    "nbgrader": {
     "cell_type": "code",
     "checksum": "c2c64dbe1cc055ad0f9ac8e71dce9d0a",
     "grade": true,
     "grade_id": "cell-955e874e2483577f",
     "locked": true,
     "points": 10,
     "schema_version": 3,
     "solution": false,
     "task": false
    }
   },
   "outputs": [
    {
     "name": "stdout",
     "output_type": "stream",
     "text": [
      "Test 1 ...  passed!\n",
      "Test 2 ...  passed!\n",
      "Tests passed: 10 points!\n"
     ]
    }
   ],
   "source": [
    "## BEGIN TESTS\n",
    "print('Test 1 ... ', end = '')\n",
    "times = [2, 2, 2, 2, 3, 3, 2]\n",
    "assigns = [0, 0, 0, 0, 1, 1, 2]\n",
    "m = 3\n",
    "s = compute_makespan(times, m, assigns)\n",
    "assert s == 8, f'Expected makespan is 8, your code returned: {s}'\n",
    "print(' passed!')\n",
    "\n",
    "print('Test 2 ...', end='')\n",
    "times = [2, 1, 2, 2, 1, 3, 2, 1, 1, 3]\n",
    "assigns = [0, 1, 0, 1, 0, 1, 0, 1, 0, 1]\n",
    "m = 3\n",
    "s = compute_makespan(times, m, assigns)\n",
    "assert s == 10, f' Expected makespan is 10, your code returned {s}'\n",
    "print('  passed!')\n",
    "print('Tests passed: 10 points!')\n",
    "\n",
    "## END TESTS"
   ]
  },
  {
   "cell_type": "markdown",
   "metadata": {
    "deletable": false,
    "editable": false,
    "nbgrader": {
     "cell_type": "markdown",
     "checksum": "a7332125cbf4e33da6aa6e0a65338a05",
     "grade": false,
     "grade_id": "cell-36f6d4ee78e1fbb5",
     "locked": true,
     "schema_version": 3,
     "solution": false,
     "task": false
    }
   },
   "source": [
    "### Minimizing Makespan\n",
    "\n",
    "Given a list $T: [T_1, \\ldots, T_n]$ of job times and $m \\geq 2$ processors, we wish to find an assignment that minimizes the overall makespan.\n",
    "\n",
    "\n",
    "### Question 3\n",
    "\n",
    "What is the number of possible assignments for a problem with $n = 1000$ jobs on $m = 10$ processors?"
   ]
  },
  {
   "cell_type": "raw",
   "metadata": {
    "deletable": false,
    "nbgrader": {
     "cell_type": "markdown",
     "checksum": "799d5b59a44407bc35c56911143776b9",
     "grade": true,
     "grade_id": "cell-dcdc597dbfe9f984",
     "locked": false,
     "points": 0,
     "schema_version": 3,
     "solution": true,
     "task": false
    }
   },
   "source": [
    "m^n = 10^1000"
   ]
  },
  {
   "cell_type": "markdown",
   "metadata": {
    "deletable": false,
    "editable": false,
    "nbgrader": {
     "cell_type": "markdown",
     "checksum": "ff34d453ccc2363cd614621af49c7e2e",
     "grade": false,
     "grade_id": "cell-eee69a385013a57c",
     "locked": true,
     "schema_version": 3,
     "solution": false,
     "task": false
    }
   },
   "source": [
    "As you will notice from the answer to the previous question, the number of possible assignments to a typical scheduling problem may well exceed the number of atoms in our Galaxy. Going through each and every one of them to find out the one that will minimize the makespan is impractical.  Furthermore, next module will study NP completeness. We will see that some problems including makespan scheduling are somehow inherently harder to solve on a computer. Thus, there are no known efficient solutions that solve for the optimal solution.\n",
    "\n",
    "Therefore, we will (hat tip to the brilliant mathematician/computer scientist Ronald Graham https://en.wikipedia.org/wiki/Ronald_Graham) propose a simple greedy algorithm for makespan minimization."
   ]
  },
  {
   "cell_type": "markdown",
   "metadata": {
    "deletable": false,
    "editable": false,
    "nbgrader": {
     "cell_type": "markdown",
     "checksum": "1020a4bdc2cf8e1c16dc4aa21fcfb6fa",
     "grade": false,
     "grade_id": "cell-d7f14bf559d7bf99",
     "locked": true,
     "schema_version": 3,
     "solution": false,
     "task": false
    }
   },
   "source": [
    "## Greedy Makespan Minimization\n",
    "\n",
    "The idea is simple: we go through each job and assign it to the processor that currently has the least load.\n",
    "\n",
    "~~~\n",
    "greedy_min_make_span(T, m):\n",
    "  # T is an array of n numbers, m >= 2\n",
    "  A = [Nil, ... , Nil] # Initialize the assignments to nil (array size n)\n",
    "  M = [ 0, 0, ...., 0] # initialize the current load of each processor to 0 (array size m)\n",
    "  for i = 1 to n\n",
    "    find processor j for which M[j] is the least.\n",
    "    A[i] = j\n",
    "    M[j] = M[j] + T[i]\n",
    " # Assignment achieves a makespan of max(M[1], .. M[m])\n",
    " return A\n",
    "~~~\n",
    "\n",
    "### Question 4\n",
    "\n",
    "What is the running time of the greedy makespan algorithm? What data structure would you use to achieve a running time of $n \\log(m)$."
   ]
  },
  {
   "cell_type": "markdown",
   "metadata": {
    "deletable": false,
    "nbgrader": {
     "cell_type": "markdown",
     "checksum": "4c697f195545d25baa61c4e3411ffb5a",
     "grade": true,
     "grade_id": "cell-c577f0a2362f2c4b",
     "locked": false,
     "points": 0,
     "schema_version": 3,
     "solution": true,
     "task": false
    }
   },
   "source": [
    "Finding the min element of array M is O(m), we also have to go through all jobs O(n)\n",
    "Running time => O(n * m)\n",
    "\n",
    "If we keep the list M as a min-heap, inserts would take O(logm), which would make the algorithm nlog(m) overall"
   ]
  },
  {
   "cell_type": "markdown",
   "metadata": {
    "deletable": false,
    "editable": false,
    "nbgrader": {
     "cell_type": "markdown",
     "checksum": "8c7cd1ec309c8be60f630eb7abe082fb",
     "grade": false,
     "grade_id": "cell-9a7902fc3a168506",
     "locked": true,
     "schema_version": 3,
     "solution": false,
     "task": false
    }
   },
   "source": [
    "## Problem B: Implement the Greedy Makespan Algorithm"
   ]
  },
  {
   "cell_type": "code",
   "execution_count": 16,
   "metadata": {
    "deletable": false,
    "nbgrader": {
     "cell_type": "code",
     "checksum": "3a45d133d983f14b2549673da78082c1",
     "grade": false,
     "grade_id": "cell-742cf55a21d3750c",
     "locked": false,
     "schema_version": 3,
     "solution": true,
     "task": false
    }
   },
   "outputs": [],
   "source": [
    "def greedy_makespan_min(times, m):\n",
    "    # times is a list of n jobs.\n",
    "    assert len(times) >= 1\n",
    "    assert all(elt >= 0 for elt in times)\n",
    "    assert m >= 2\n",
    "    n = len(times)\n",
    "    # please do not reorder the jobs in times or else tests will fail.\n",
    "    # you can implement a priority queue if you would like.\n",
    "    # use https://docs.python.org/3/library/heapq.html heapq data structure \n",
    "    # Return a tuple of two things: \n",
    "    #    - Assignment list of n numbers from 0 to m-1\n",
    "    #    - The makespan of your assignment\n",
    "    # your code here\n",
    "    A = [-1] * n # Using -1 instead of Nil\n",
    "    M = [0] * m\n",
    "    for i in range(n):\n",
    "        j = M.index(min(M)) # Get the index/id of processor with minimum load\n",
    "        A[i] = j\n",
    "        M[j] = M[j] + times[i]\n",
    "        \n",
    "    ms = compute_makespan(times, m, A)\n",
    "    return (A,ms)"
   ]
  },
  {
   "cell_type": "code",
   "execution_count": 17,
   "metadata": {
    "deletable": false,
    "editable": false,
    "nbgrader": {
     "cell_type": "code",
     "checksum": "a59c0be1cb6e9584ee3233806d7d0c30",
     "grade": true,
     "grade_id": "cell-dee38a85f0c77fa4",
     "locked": true,
     "points": 15,
     "schema_version": 3,
     "solution": false,
     "task": false
    }
   },
   "outputs": [
    {
     "name": "stdout",
     "output_type": "stream",
     "text": [
      "Test 1:\n",
      "\t Assignment returned:  [0, 1, 2, 0, 1, 2, 0, 1, 2]\n",
      "\t Claimed makespan:  7\n",
      "Passed\n",
      "Test 2:\n",
      "\t Assignment returned:  [0, 1, 2, 3, 4, 0, 1, 2, 3, 4, 0, 1, 2, 3, 4, 0, 1, 2, 3, 4, 0]\n",
      "\t Claimed makespan:  9\n",
      "Passed\n",
      "Test 3:\n",
      "\t Assignment returned:  [0, 1, 2, 3, 4, 5, 6, 7, 8, 9, 10, 11, 12, 13, 14, 15, 16, 17, 18, 19, 0, 1, 2, 3, 4, 5, 6, 7, 8, 9, 10, 11, 12, 13, 14, 15, 16, 17, 18, 19, 0]\n",
      "\t Claimed makespan:  4\n",
      "Passed\n",
      "All tests passed: 15 points!\n"
     ]
    }
   ],
   "source": [
    "## BEGIN TESTS\n",
    "def do_test(times, m, expected):\n",
    "    (a, makespan) = greedy_makespan_min(times,m )\n",
    "    print('\\t Assignment returned: ', a)\n",
    "    print('\\t Claimed makespan: ', makespan)\n",
    "    assert compute_makespan(times, m, a) == makespan, 'Assignment returned is not consistent with the reported makespan'\n",
    "    assert makespan == expected, f'Expected makespan should be {expected}, your core returned {makespan}'\n",
    "    print('Passed')\n",
    "print('Test 1:')\n",
    "times = [2, 2, 2, 2, 2, 2, 2, 2, 3] \n",
    "m = 3\n",
    "expected = 7\n",
    "do_test(times, m, expected)\n",
    "\n",
    "print('Test 2:')\n",
    "times = [1]*20 + [5]\n",
    "m = 5\n",
    "expected =9\n",
    "do_test(times, m, expected)\n",
    "\n",
    "print('Test 3:')\n",
    "times = [1]*40 + [2]\n",
    "m = 20\n",
    "expected = 4\n",
    "do_test(times, m, expected)\n",
    "print('All tests passed: 15 points!')\n",
    "## END TESTS"
   ]
  },
  {
   "cell_type": "markdown",
   "metadata": {
    "deletable": false,
    "editable": false,
    "nbgrader": {
     "cell_type": "markdown",
     "checksum": "28e283f49b8ed45a6a55730356bd4f9a",
     "grade": false,
     "grade_id": "cell-0a8cd8f791090ea6",
     "locked": true,
     "schema_version": 3,
     "solution": false,
     "task": false
    }
   },
   "source": [
    "## Question 5\n",
    "\n",
    "Construct a set of timings for $n$ jobs with $m \\geq 2 $ processors that shows that greedy solution can be strictly worse than the best solution."
   ]
  },
  {
   "cell_type": "raw",
   "metadata": {
    "deletable": false,
    "nbgrader": {
     "cell_type": "markdown",
     "checksum": "84f26157c81f27dcdf46374ffd84e36b",
     "grade": true,
     "grade_id": "cell-b66194b172c7170b",
     "locked": false,
     "points": 0,
     "schema_version": 3,
     "solution": true,
     "task": false
    }
   },
   "source": [
    "If we go back to question 2, time assignments were like the following;\n",
    "T = [2, 2, 2, 2, 2, 2, 3] and m = 3\n",
    "\n",
    "Running the algorithm above we start with the processor loads M = [0,0,0]\n",
    "a1: M = [2,0,0]\n",
    "a2: M = [2,2,0]\n",
    "a3: M = [2,2,2]\n",
    "a4: M = [4,2,2]\n",
    "a5: M = [4,4,2]\n",
    "a6: M = [4,4,4]\n",
    "a7: M = [7,4,4] -> resulting makespan = 7\n",
    "\n",
    "whereas there is a better assignment that may result in M = [6,5,4] with a makespan of 6."
   ]
  }
 ],
 "metadata": {
  "kernelspec": {
   "display_name": "Python 3",
   "language": "python",
   "name": "python3"
  },
  "language_info": {
   "codemirror_mode": {
    "name": "ipython",
    "version": 3
   },
   "file_extension": ".py",
   "mimetype": "text/x-python",
   "name": "python",
   "nbconvert_exporter": "python",
   "pygments_lexer": "ipython3",
   "version": "3.7.6"
  }
 },
 "nbformat": 4,
 "nbformat_minor": 5
}
