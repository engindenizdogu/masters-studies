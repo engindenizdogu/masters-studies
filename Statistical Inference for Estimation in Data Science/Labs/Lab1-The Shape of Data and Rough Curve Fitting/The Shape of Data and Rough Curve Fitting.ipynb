{
 "cells": [
  {
   "cell_type": "markdown",
   "metadata": {},
   "source": [
    "# The Shape of Data and Rough Curve Fitting"
   ]
  },
  {
   "cell_type": "markdown",
   "metadata": {},
   "source": [
    "# Read in some data\n",
    "\n",
    "> We've left you some data in a file called \"data1\". Let's check it out!  \n",
    "> We are going to read in some data using the command \"read.table\".   \n",
    "> Because this command reads in data as a \"list\" structure, we will \"unlist it\" and turn it into a vector. The letter \"c\" is used in R to define a vector.  \n",
    "\n",
    "> In the cell below, type  \n",
    "`mydata<-read.table(\"data1\")`  \n",
    "`mydata<-c(unlist(mydata))`\n",
    "\n",
    "Hold down \"Shift\" and press \"Enter\" to run the commands in this jupyter notebook."
   ]
  },
  {
   "cell_type": "code",
   "execution_count": 5,
   "metadata": {},
   "outputs": [
    {
     "data": {
      "text/html": [
       "<table>\n",
       "<caption>A data.frame: 6 × 5</caption>\n",
       "<thead>\n",
       "\t<tr><th></th><th scope=col>V1</th><th scope=col>V2</th><th scope=col>V3</th><th scope=col>V4</th><th scope=col>V5</th></tr>\n",
       "\t<tr><th></th><th scope=col>&lt;dbl&gt;</th><th scope=col>&lt;dbl&gt;</th><th scope=col>&lt;dbl&gt;</th><th scope=col>&lt;dbl&gt;</th><th scope=col>&lt;dbl&gt;</th></tr>\n",
       "</thead>\n",
       "<tbody>\n",
       "\t<tr><th scope=row>1</th><td>0.556957300</td><td>0.46996870</td><td>0.2964436</td><td>0.20951990</td><td>0.27539460</td></tr>\n",
       "\t<tr><th scope=row>2</th><td>0.008490269</td><td>0.07841954</td><td>0.3461966</td><td>0.75531940</td><td>0.24116030</td></tr>\n",
       "\t<tr><th scope=row>3</th><td>0.445995500</td><td>0.01898926</td><td>0.3568922</td><td>0.08611522</td><td>0.31418710</td></tr>\n",
       "\t<tr><th scope=row>4</th><td>0.037265850</td><td>0.12559410</td><td>0.2131051</td><td>0.01180722</td><td>0.08268498</td></tr>\n",
       "\t<tr><th scope=row>5</th><td>0.356418800</td><td>0.69379010</td><td>0.3534682</td><td>0.12118910</td><td>0.99433030</td></tr>\n",
       "\t<tr><th scope=row>6</th><td>0.742323200</td><td>0.25912630</td><td>0.2938032</td><td>1.25581100</td><td>0.28801100</td></tr>\n",
       "</tbody>\n",
       "</table>\n"
      ],
      "text/latex": [
       "A data.frame: 6 × 5\n",
       "\\begin{tabular}{r|lllll}\n",
       "  & V1 & V2 & V3 & V4 & V5\\\\\n",
       "  & <dbl> & <dbl> & <dbl> & <dbl> & <dbl>\\\\\n",
       "\\hline\n",
       "\t1 & 0.556957300 & 0.46996870 & 0.2964436 & 0.20951990 & 0.27539460\\\\\n",
       "\t2 & 0.008490269 & 0.07841954 & 0.3461966 & 0.75531940 & 0.24116030\\\\\n",
       "\t3 & 0.445995500 & 0.01898926 & 0.3568922 & 0.08611522 & 0.31418710\\\\\n",
       "\t4 & 0.037265850 & 0.12559410 & 0.2131051 & 0.01180722 & 0.08268498\\\\\n",
       "\t5 & 0.356418800 & 0.69379010 & 0.3534682 & 0.12118910 & 0.99433030\\\\\n",
       "\t6 & 0.742323200 & 0.25912630 & 0.2938032 & 1.25581100 & 0.28801100\\\\\n",
       "\\end{tabular}\n"
      ],
      "text/markdown": [
       "\n",
       "A data.frame: 6 × 5\n",
       "\n",
       "| <!--/--> | V1 &lt;dbl&gt; | V2 &lt;dbl&gt; | V3 &lt;dbl&gt; | V4 &lt;dbl&gt; | V5 &lt;dbl&gt; |\n",
       "|---|---|---|---|---|---|\n",
       "| 1 | 0.556957300 | 0.46996870 | 0.2964436 | 0.20951990 | 0.27539460 |\n",
       "| 2 | 0.008490269 | 0.07841954 | 0.3461966 | 0.75531940 | 0.24116030 |\n",
       "| 3 | 0.445995500 | 0.01898926 | 0.3568922 | 0.08611522 | 0.31418710 |\n",
       "| 4 | 0.037265850 | 0.12559410 | 0.2131051 | 0.01180722 | 0.08268498 |\n",
       "| 5 | 0.356418800 | 0.69379010 | 0.3534682 | 0.12118910 | 0.99433030 |\n",
       "| 6 | 0.742323200 | 0.25912630 | 0.2938032 | 1.25581100 | 0.28801100 |\n",
       "\n"
      ],
      "text/plain": [
       "  V1          V2         V3        V4         V5        \n",
       "1 0.556957300 0.46996870 0.2964436 0.20951990 0.27539460\n",
       "2 0.008490269 0.07841954 0.3461966 0.75531940 0.24116030\n",
       "3 0.445995500 0.01898926 0.3568922 0.08611522 0.31418710\n",
       "4 0.037265850 0.12559410 0.2131051 0.01180722 0.08268498\n",
       "5 0.356418800 0.69379010 0.3534682 0.12118910 0.99433030\n",
       "6 0.742323200 0.25912630 0.2938032 1.25581100 0.28801100"
      ]
     },
     "metadata": {},
     "output_type": "display_data"
    }
   ],
   "source": [
    "mydata<-read.table(\"data1\")\n",
    "head(mydata)"
   ]
  },
  {
   "cell_type": "code",
   "execution_count": 7,
   "metadata": {},
   "outputs": [
    {
     "data": {
      "text/html": [
       "<style>\n",
       ".dl-inline {width: auto; margin:0; padding: 0}\n",
       ".dl-inline>dt, .dl-inline>dd {float: none; width: auto; display: inline-block}\n",
       ".dl-inline>dt::after {content: \":\\0020\"; padding-right: .5ex}\n",
       ".dl-inline>dt:not(:first-of-type) {padding-left: .5ex}\n",
       "</style><dl class=dl-inline><dt>V11</dt><dd>0.5569573</dd><dt>V12</dt><dd>0.008490269</dd><dt>V13</dt><dd>0.4459955</dd><dt>V14</dt><dd>0.03726585</dd><dt>V15</dt><dd>0.3564188</dd><dt>V16</dt><dd>0.7423232</dd></dl>\n"
      ],
      "text/latex": [
       "\\begin{description*}\n",
       "\\item[V11] 0.5569573\n",
       "\\item[V12] 0.008490269\n",
       "\\item[V13] 0.4459955\n",
       "\\item[V14] 0.03726585\n",
       "\\item[V15] 0.3564188\n",
       "\\item[V16] 0.7423232\n",
       "\\end{description*}\n"
      ],
      "text/markdown": [
       "V11\n",
       ":   0.5569573V12\n",
       ":   0.008490269V13\n",
       ":   0.4459955V14\n",
       ":   0.03726585V15\n",
       ":   0.3564188V16\n",
       ":   0.7423232\n",
       "\n"
      ],
      "text/plain": [
       "        V11         V12         V13         V14         V15         V16 \n",
       "0.556957300 0.008490269 0.445995500 0.037265850 0.356418800 0.742323200 "
      ]
     },
     "metadata": {},
     "output_type": "display_data"
    }
   ],
   "source": [
    "mydata<-c(unlist(mydata))\n",
    "head(mydata)"
   ]
  },
  {
   "cell_type": "markdown",
   "metadata": {},
   "source": [
    "> Let's get some quick and basic measurements from the data.  \n",
    "In the cell below, type  \n",
    "`length(mydata)`  \n",
    "`mean(mydata)`  \n",
    "`var(mydata`)\n",
    "\n",
    ">Run the commands."
   ]
  },
  {
   "cell_type": "code",
   "execution_count": 10,
   "metadata": {},
   "outputs": [
    {
     "data": {
      "text/html": [
       "1000"
      ],
      "text/latex": [
       "1000"
      ],
      "text/markdown": [
       "1000"
      ],
      "text/plain": [
       "[1] 1000"
      ]
     },
     "metadata": {},
     "output_type": "display_data"
    },
    {
     "data": {
      "text/html": [
       "0.3437256722758"
      ],
      "text/latex": [
       "0.3437256722758"
      ],
      "text/markdown": [
       "0.3437256722758"
      ],
      "text/plain": [
       "[1] 0.3437257"
      ]
     },
     "metadata": {},
     "output_type": "display_data"
    },
    {
     "data": {
      "text/html": [
       "0.120213749670276"
      ],
      "text/latex": [
       "0.120213749670276"
      ],
      "text/markdown": [
       "0.120213749670276"
      ],
      "text/plain": [
       "[1] 0.1202137"
      ]
     },
     "metadata": {},
     "output_type": "display_data"
    }
   ],
   "source": [
    "length(mydata)\n",
    "mean(mydata)\n",
    "var(mydata)"
   ]
  },
  {
   "cell_type": "markdown",
   "metadata": {},
   "source": [
    "# Making a histogram  \n",
    "\n",
    "> In the cell below, type `hist(mydata)`  \n",
    "\n",
    "> (From this point forward, go ahead and run the commands when you are ready.)\n"
   ]
  },
  {
   "cell_type": "code",
   "execution_count": 11,
   "metadata": {},
   "outputs": [
    {
     "data": {
      "image/png": "[encoded data removed]",
      "text/plain": [
       "Plot with title “Histogram of mydata”"
      ]
     },
     "metadata": {
      "image/png": {
       "height": 420,
       "width": 420
      },
      "text/plain": {
       "height": 420,
       "width": 420
      }
     },
     "output_type": "display_data"
    }
   ],
   "source": [
    "hist(mydata)"
   ]
  },
  {
   "cell_type": "markdown",
   "metadata": {},
   "source": [
    "> Great! Now, let's take a little more control in the appearance of the histogram. For example, the default bin width you are seeing is probably 0.5. Lets change it to 0.1. In order to do this, we will have to define the breakpoints as a sequence of numbers.\n",
    "\n",
    "> In the next cell, type \n",
    "\n",
    "`min(mydata)`  \n",
    "`max(mydata)`"
   ]
  },
  {
   "cell_type": "code",
   "execution_count": 12,
   "metadata": {},
   "outputs": [
    {
     "data": {
      "text/html": [
       "0.0007510328"
      ],
      "text/latex": [
       "0.0007510328"
      ],
      "text/markdown": [
       "0.0007510328"
      ],
      "text/plain": [
       "[1] 0.0007510328"
      ]
     },
     "metadata": {},
     "output_type": "display_data"
    },
    {
     "data": {
      "text/html": [
       "3.129895"
      ],
      "text/latex": [
       "3.129895"
      ],
      "text/markdown": [
       "3.129895"
      ],
      "text/plain": [
       "[1] 3.129895"
      ]
     },
     "metadata": {},
     "output_type": "display_data"
    }
   ],
   "source": [
    "min(mydata)\n",
    "max(mydata)"
   ]
  },
  {
   "cell_type": "markdown",
   "metadata": {},
   "source": [
    "> Suppose that your minimum and maximum are 0.0220296 and 3.406938. In what follows, use <b>your</b> actual numbers.\n",
    "\n",
    "> Make a sequence (vector) of bin breaks, each which length 0.1,that will include your minimum and maximum. We will call it \"br\". In the next cell, type `br<-seq(0,3.5,0.1)`\n",
    "\n",
    "> Notice how, in this example, we have used the closest numbers to one decimal place that will fully cover the entire dataset.\n",
    "\n",
    "> We will now remake the histogram. In real life you would go back up to the cell where you made the previous histogram, edit your code and run it there. In order to keep these instructions flowing in a linear way, we will make an entirely new histogram below.\n",
    "\n",
    "> Add this to the cell under your line defining the sequence of breaks.  `hist(mydata,prob=T,breaks=br')`\n",
    "\n",
    "> The \"prob=T\" part will put density on the y-axis as opposed to counts. This will make the histogram bars scale so that the <u>total area in the bar</u> between 0.2 and 0.3 (for example) <u>will be equal to the proportion</u> of values in the data set that are between 0.2 and 0.3. This is important because we are going to try to superimpose a true pdf on the histogram and area under a pdf gives probability."
   ]
  },
  {
   "cell_type": "code",
   "execution_count": 14,
   "metadata": {},
   "outputs": [
    {
     "data": {
      "text/html": [
       "<style>\n",
       ".list-inline {list-style: none; margin:0; padding: 0}\n",
       ".list-inline>li {display: inline-block}\n",
       ".list-inline>li:not(:last-child)::after {content: \"\\00b7\"; padding: 0 .5ex}\n",
       "</style>\n",
       "<ol class=list-inline><li>0</li><li>0.1</li><li>0.2</li><li>0.3</li><li>0.4</li><li>0.5</li><li>0.6</li><li>0.7</li><li>0.8</li><li>0.9</li><li>1</li><li>1.1</li><li>1.2</li><li>1.3</li><li>1.4</li><li>1.5</li><li>1.6</li><li>1.7</li><li>1.8</li><li>1.9</li><li>2</li><li>2.1</li><li>2.2</li><li>2.3</li><li>2.4</li><li>2.5</li><li>2.6</li><li>2.7</li><li>2.8</li><li>2.9</li><li>3</li><li>3.1</li><li>3.2</li></ol>\n"
      ],
      "text/latex": [
       "\\begin{enumerate*}\n",
       "\\item 0\n",
       "\\item 0.1\n",
       "\\item 0.2\n",
       "\\item 0.3\n",
       "\\item 0.4\n",
       "\\item 0.5\n",
       "\\item 0.6\n",
       "\\item 0.7\n",
       "\\item 0.8\n",
       "\\item 0.9\n",
       "\\item 1\n",
       "\\item 1.1\n",
       "\\item 1.2\n",
       "\\item 1.3\n",
       "\\item 1.4\n",
       "\\item 1.5\n",
       "\\item 1.6\n",
       "\\item 1.7\n",
       "\\item 1.8\n",
       "\\item 1.9\n",
       "\\item 2\n",
       "\\item 2.1\n",
       "\\item 2.2\n",
       "\\item 2.3\n",
       "\\item 2.4\n",
       "\\item 2.5\n",
       "\\item 2.6\n",
       "\\item 2.7\n",
       "\\item 2.8\n",
       "\\item 2.9\n",
       "\\item 3\n",
       "\\item 3.1\n",
       "\\item 3.2\n",
       "\\end{enumerate*}\n"
      ],
      "text/markdown": [
       "1. 0\n",
       "2. 0.1\n",
       "3. 0.2\n",
       "4. 0.3\n",
       "5. 0.4\n",
       "6. 0.5\n",
       "7. 0.6\n",
       "8. 0.7\n",
       "9. 0.8\n",
       "10. 0.9\n",
       "11. 1\n",
       "12. 1.1\n",
       "13. 1.2\n",
       "14. 1.3\n",
       "15. 1.4\n",
       "16. 1.5\n",
       "17. 1.6\n",
       "18. 1.7\n",
       "19. 1.8\n",
       "20. 1.9\n",
       "21. 2\n",
       "22. 2.1\n",
       "23. 2.2\n",
       "24. 2.3\n",
       "25. 2.4\n",
       "26. 2.5\n",
       "27. 2.6\n",
       "28. 2.7\n",
       "29. 2.8\n",
       "30. 2.9\n",
       "31. 3\n",
       "32. 3.1\n",
       "33. 3.2\n",
       "\n",
       "\n"
      ],
      "text/plain": [
       " [1] 0.0 0.1 0.2 0.3 0.4 0.5 0.6 0.7 0.8 0.9 1.0 1.1 1.2 1.3 1.4 1.5 1.6 1.7 1.8\n",
       "[20] 1.9 2.0 2.1 2.2 2.3 2.4 2.5 2.6 2.7 2.8 2.9 3.0 3.1 3.2"
      ]
     },
     "metadata": {},
     "output_type": "display_data"
    }
   ],
   "source": [
    "br<-seq(0,3.2,0.1)\n",
    "br"
   ]
  },
  {
   "cell_type": "code",
   "execution_count": 17,
   "metadata": {},
   "outputs": [
    {
     "data": {
      "image/png": "[encoded data removed]",
      "text/plain": [
       "Plot with title “Histogram of mydata”"
      ]
     },
     "metadata": {
      "image/png": {
       "height": 420,
       "width": 420
      },
      "text/plain": {
       "height": 420,
       "width": 420
      }
     },
     "output_type": "display_data"
    }
   ],
   "source": [
    "hist(mydata,prob=T,breaks=br)"
   ]
  },
  {
   "cell_type": "markdown",
   "metadata": {},
   "source": [
    "# Superimposing a curve\n",
    "\n",
    "> Is it just us or does this look like an exponential distribution?  \n",
    "> Recall that $\\lambda$, the rate parameter for the exponential distribution is 1 divided by the true mean of the distribution.\n",
    "> Since $\\lambda$ is unknown, we will try to estimate it by using 1 divided by the sample mean.  That is, we will estimate $\\lambda$ with  $\\widehat{\\lambda} = 1/\\overline{X}$.  \n",
    "> In the next cell, define a variable named \"lambdahat\" and set it to be 1 over the sample mean."
   ]
  },
  {
   "cell_type": "code",
   "execution_count": 19,
   "metadata": {},
   "outputs": [
    {
     "data": {
      "text/html": [
       "2.90929680456808"
      ],
      "text/latex": [
       "2.90929680456808"
      ],
      "text/markdown": [
       "2.90929680456808"
      ],
      "text/plain": [
       "[1] 2.909297"
      ]
     },
     "metadata": {},
     "output_type": "display_data"
    }
   ],
   "source": [
    "lambdahat = 1/mean(mydata)\n",
    "lambdahat"
   ]
  },
  {
   "cell_type": "markdown",
   "metadata": {},
   "source": [
    "> Let's superimpose the exponential density on our histogram using our estimated $\\lambda$. The easiest way to do this is not to make a function but rather a sequence of points where we connect the dots.\n",
    "\n",
    "> Create a sequence of x-values. We'll make them really close together so that out \"dot connecting\" looks smooth.\n",
    "\n",
    "> In the next cell, type. `x<-seq(0,3,0.001)`\n",
    "\n",
    "> Now let's get the pdf values. Add this to the cell. `fx<-lambdahat*exp(-lambdahat*x)`\n",
    "\n",
    "> Go back to the previous cell where you made your last histogram and add the line by typing `lines(x,fx)`.\n"
   ]
  },
  {
   "cell_type": "code",
   "execution_count": 25,
   "metadata": {},
   "outputs": [
    {
     "data": {
      "image/png": "[encoded data removed]",
      "text/plain": [
       "Plot with title “Histogram of mydata”"
      ]
     },
     "metadata": {
      "image/png": {
       "height": 420,
       "width": 420
      },
      "text/plain": {
       "height": 420,
       "width": 420
      }
     },
     "output_type": "display_data"
    }
   ],
   "source": [
    "x<-seq(0,3.2,0.001)\n",
    "fx<-lambdahat*exp(-lambdahat*x)\n",
    "hist(mydata,prob=T,breaks=br)\n",
    "lines(x,fx)"
   ]
  },
  {
   "cell_type": "markdown",
   "metadata": {},
   "source": [
    "# A Mystery Data Set\n",
    "\n",
    "> Following the commands at the beginning of this lab. Read in the data set called \"data2\".\n",
    "\n",
    "> Take a look at the shape of the data by making a histogram. Be sure to use \"density\" on the $y$-axis and adjust the breaks to make the histogram look nice to you. (Too few bins and the histogram will look \"chunky\" and will miss a lot of the shape detail. Too many bins can result in some bins being empty while a neighboring bin is very \"spiky\"."
   ]
  },
  {
   "cell_type": "code",
   "execution_count": 26,
   "metadata": {},
   "outputs": [
    {
     "data": {
      "text/html": [
       "<style>\n",
       ".dl-inline {width: auto; margin:0; padding: 0}\n",
       ".dl-inline>dt, .dl-inline>dd {float: none; width: auto; display: inline-block}\n",
       ".dl-inline>dt::after {content: \":\\0020\"; padding-right: .5ex}\n",
       ".dl-inline>dt:not(:first-of-type) {padding-left: .5ex}\n",
       "</style><dl class=dl-inline><dt>V11</dt><dd>0.04511932</dd><dt>V12</dt><dd>0.2480368</dd><dt>V13</dt><dd>0.002365537</dd><dt>V14</dt><dd>0.4427163</dd><dt>V15</dt><dd>0.01582073</dd><dt>V16</dt><dd>0.1891792</dd></dl>\n"
      ],
      "text/latex": [
       "\\begin{description*}\n",
       "\\item[V11] 0.04511932\n",
       "\\item[V12] 0.2480368\n",
       "\\item[V13] 0.002365537\n",
       "\\item[V14] 0.4427163\n",
       "\\item[V15] 0.01582073\n",
       "\\item[V16] 0.1891792\n",
       "\\end{description*}\n"
      ],
      "text/markdown": [
       "V11\n",
       ":   0.04511932V12\n",
       ":   0.2480368V13\n",
       ":   0.002365537V14\n",
       ":   0.4427163V15\n",
       ":   0.01582073V16\n",
       ":   0.1891792\n",
       "\n"
      ],
      "text/plain": [
       "        V11         V12         V13         V14         V15         V16 \n",
       "0.045119320 0.248036800 0.002365537 0.442716300 0.015820730 0.189179200 "
      ]
     },
     "metadata": {},
     "output_type": "display_data"
    }
   ],
   "source": [
    "mydata<-read.table(\"data2\")\n",
    "mydata<-c(unlist(mydata))\n",
    "head(mydata)"
   ]
  },
  {
   "cell_type": "code",
   "execution_count": 27,
   "metadata": {},
   "outputs": [
    {
     "data": {
      "text/html": [
       "10000"
      ],
      "text/latex": [
       "10000"
      ],
      "text/markdown": [
       "10000"
      ],
      "text/plain": [
       "[1] 10000"
      ]
     },
     "metadata": {},
     "output_type": "display_data"
    },
    {
     "data": {
      "text/html": [
       "0.498135430900212"
      ],
      "text/latex": [
       "0.498135430900212"
      ],
      "text/markdown": [
       "0.498135430900212"
      ],
      "text/plain": [
       "[1] 0.4981354"
      ]
     },
     "metadata": {},
     "output_type": "display_data"
    },
    {
     "data": {
      "text/html": [
       "0.69762850439392"
      ],
      "text/latex": [
       "0.69762850439392"
      ],
      "text/markdown": [
       "0.69762850439392"
      ],
      "text/plain": [
       "[1] 0.6976285"
      ]
     },
     "metadata": {},
     "output_type": "display_data"
    }
   ],
   "source": [
    "length(mydata)\n",
    "mean(mydata)\n",
    "var(mydata)"
   ]
  },
  {
   "cell_type": "code",
   "execution_count": 42,
   "metadata": {},
   "outputs": [
    {
     "data": {
      "text/html": [
       "7.097943e-06"
      ],
      "text/latex": [
       "7.097943e-06"
      ],
      "text/markdown": [
       "7.097943e-06"
      ],
      "text/plain": [
       "[1] 7.097943e-06"
      ]
     },
     "metadata": {},
     "output_type": "display_data"
    },
    {
     "data": {
      "text/html": [
       "25.90718"
      ],
      "text/latex": [
       "25.90718"
      ],
      "text/markdown": [
       "25.90718"
      ],
      "text/plain": [
       "[1] 25.90718"
      ]
     },
     "metadata": {},
     "output_type": "display_data"
    },
    {
     "data": {
      "image/png": "[encoded data removed]",
      "text/plain": [
       "Plot with title “Histogram of mydata”"
      ]
     },
     "metadata": {
      "image/png": {
       "height": 420,
       "width": 420
      },
      "text/plain": {
       "height": 420,
       "width": 420
      }
     },
     "output_type": "display_data"
    }
   ],
   "source": [
    "min(mydata)\n",
    "max(mydata)\n",
    "br<-seq(0,26,0.005)\n",
    "hist(mydata,prob=T,breaks=br)"
   ]
  },
  {
   "cell_type": "markdown",
   "metadata": {},
   "source": [
    "> Decide whether this data set looks like an exponential distribution, a normal distribution, or a Pareto distribution. (See your table of distributions for the pdfs.)\n",
    "\n",
    "> Once you have decided on a distribution, superimpose the pdf on the histogram using estimates for the parameter(s) that seem intuitive to you. (Don't worry too much about getting a good fit. We will be able to get a better result later in the course after we learn formal methods for estimating parameters!)"
   ]
  },
  {
   "cell_type": "code",
   "execution_count": 52,
   "metadata": {},
   "outputs": [
    {
     "data": {
      "text/html": [
       "2.00748619344911"
      ],
      "text/latex": [
       "2.00748619344911"
      ],
      "text/markdown": [
       "2.00748619344911"
      ],
      "text/plain": [
       "[1] 2.007486"
      ]
     },
     "metadata": {},
     "output_type": "display_data"
    },
    {
     "data": {
      "image/png": "[encoded data removed]",
      "text/plain": [
       "Plot with title “Histogram of mydata”"
      ]
     },
     "metadata": {
      "image/png": {
       "height": 420,
       "width": 420
      },
      "text/plain": {
       "height": 420,
       "width": 420
      }
     },
     "output_type": "display_data"
    }
   ],
   "source": [
    "lambdahat = 1/mean(mydata)\n",
    "lambdahat\n",
    "x<-seq(0,25,1)\n",
    "fx<-lambdahat*exp(-lambdahat*x)\n",
    "hist(mydata,prob=T,breaks=br)\n",
    "lines(x,fx)"
   ]
  }
 ],
 "metadata": {
  "kernelspec": {
   "display_name": "R",
   "language": "R",
   "name": "ir"
  }
 },
 "nbformat": 4,
 "nbformat_minor": 4
}
